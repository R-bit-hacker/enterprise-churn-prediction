{
 "cells": [
  {
   "cell_type": "markdown",
   "id": "87a58179-e047-40f1-809c-9847f83e6818",
   "metadata": {},
   "source": [
    "# 1. Import libraries"
   ]
  },
  {
   "cell_type": "code",
   "execution_count": 37,
   "id": "610b8932-7048-4a58-9d75-76f4a8195cce",
   "metadata": {},
   "outputs": [],
   "source": [
    "import pandas as pd\n",
    "import matplotlib.pyplot as plt\n",
    "import seaborn as sns"
   ]
  },
  {
   "cell_type": "markdown",
   "id": "d869f22f-2a61-42b9-ad90-c72448671c2f",
   "metadata": {},
   "source": [
    "# 2. Load dataset"
   ]
  },
  {
   "cell_type": "code",
   "execution_count": 9,
   "id": "3b907ea7-d862-4768-94c0-97169568e31c",
   "metadata": {},
   "outputs": [],
   "source": [
    "df=pd.read_csv(\"C:/Users/DELL/Desktop/jupyter projects/AI-Journey/enterprise-churn/data/WA_Fn-UseC_-Telco-Customer-Churn.csv\")"
   ]
  },
  {
   "cell_type": "markdown",
   "id": "b802ae4f-e98d-4b5f-91a4-0e92e07731cd",
   "metadata": {},
   "source": [
    "# 3. Data info"
   ]
  },
  {
   "cell_type": "code",
   "execution_count": 12,
   "id": "18bfc40f-2e16-4340-8f14-935108d36719",
   "metadata": {},
   "outputs": [
    {
     "name": "stdout",
     "output_type": "stream",
     "text": [
      "Shape:\n",
      " (7043, 21)\n",
      "Columns:\n",
      " Index(['customerID', 'gender', 'SeniorCitizen', 'Partner', 'Dependents',\n",
      "       'tenure', 'PhoneService', 'MultipleLines', 'InternetService',\n",
      "       'OnlineSecurity', 'OnlineBackup', 'DeviceProtection', 'TechSupport',\n",
      "       'StreamingTV', 'StreamingMovies', 'Contract', 'PaperlessBilling',\n",
      "       'PaymentMethod', 'MonthlyCharges', 'TotalCharges', 'Churn'],\n",
      "      dtype='object')\n",
      "Data types:\n",
      " customerID           object\n",
      "gender               object\n",
      "SeniorCitizen         int64\n",
      "Partner              object\n",
      "Dependents           object\n",
      "tenure                int64\n",
      "PhoneService         object\n",
      "MultipleLines        object\n",
      "InternetService      object\n",
      "OnlineSecurity       object\n",
      "OnlineBackup         object\n",
      "DeviceProtection     object\n",
      "TechSupport          object\n",
      "StreamingTV          object\n",
      "StreamingMovies      object\n",
      "Contract             object\n",
      "PaperlessBilling     object\n",
      "PaymentMethod        object\n",
      "MonthlyCharges      float64\n",
      "TotalCharges         object\n",
      "Churn                object\n",
      "dtype: object\n",
      "\n",
      "    customerID  gender  SeniorCitizen Partner Dependents  tenure PhoneService  \\\n",
      "0  7590-VHVEG  Female              0     Yes         No       1           No   \n",
      "1  5575-GNVDE    Male              0      No         No      34          Yes   \n",
      "2  3668-QPYBK    Male              0      No         No       2          Yes   \n",
      "3  7795-CFOCW    Male              0      No         No      45           No   \n",
      "4  9237-HQITU  Female              0      No         No       2          Yes   \n",
      "\n",
      "      MultipleLines InternetService OnlineSecurity  ... DeviceProtection  \\\n",
      "0  No phone service             DSL             No  ...               No   \n",
      "1                No             DSL            Yes  ...              Yes   \n",
      "2                No             DSL            Yes  ...               No   \n",
      "3  No phone service             DSL            Yes  ...              Yes   \n",
      "4                No     Fiber optic             No  ...               No   \n",
      "\n",
      "  TechSupport StreamingTV StreamingMovies        Contract PaperlessBilling  \\\n",
      "0          No          No              No  Month-to-month              Yes   \n",
      "1          No          No              No        One year               No   \n",
      "2          No          No              No  Month-to-month              Yes   \n",
      "3         Yes          No              No        One year               No   \n",
      "4          No          No              No  Month-to-month              Yes   \n",
      "\n",
      "               PaymentMethod MonthlyCharges  TotalCharges Churn  \n",
      "0           Electronic check          29.85         29.85    No  \n",
      "1               Mailed check          56.95        1889.5    No  \n",
      "2               Mailed check          53.85        108.15   Yes  \n",
      "3  Bank transfer (automatic)          42.30       1840.75    No  \n",
      "4           Electronic check          70.70        151.65   Yes  \n",
      "\n",
      "[5 rows x 21 columns]\n"
     ]
    }
   ],
   "source": [
    "print(\"Shape:\\n\", df.shape)\n",
    "print(\"Columns:\\n\", df.columns)\n",
    "print(\"Data types:\\n\", df.dtypes)\n",
    "\n",
    "# first few rows\n",
    "print(\"\\n\", df.head(5))"
   ]
  },
  {
   "cell_type": "code",
   "execution_count": 14,
   "id": "ccc5f2d2-6d2e-4bf6-a140-596876651c0e",
   "metadata": {},
   "outputs": [
    {
     "name": "stdout",
     "output_type": "stream",
     "text": [
      "Categorical Columns:\n",
      " Index(['customerID', 'gender', 'Partner', 'Dependents', 'PhoneService',\n",
      "       'MultipleLines', 'InternetService', 'OnlineSecurity', 'OnlineBackup',\n",
      "       'DeviceProtection', 'TechSupport', 'StreamingTV', 'StreamingMovies',\n",
      "       'Contract', 'PaperlessBilling', 'PaymentMethod', 'TotalCharges',\n",
      "       'Churn'],\n",
      "      dtype='object')\n",
      "\n",
      "NumericalColumns:\n",
      " Index(['SeniorCitizen', 'tenure', 'MonthlyCharges'], dtype='object')\n"
     ]
    }
   ],
   "source": [
    "# identifying categorical and numerical columns\n",
    "categorical_cols=df.select_dtypes(include=['object']).columns\n",
    "numerical_cols=df.select_dtypes(exclude=['object']).columns\n",
    "\n",
    "print(\"Categorical Columns:\\n\", categorical_cols)\n",
    "print(\"\\nNumericalColumns:\\n\", numerical_cols)"
   ]
  },
  {
   "cell_type": "markdown",
   "id": "27e36cef-bab4-4c28-8d10-f8ffb6ddf498",
   "metadata": {},
   "source": [
    "# 4. EDA : First Round"
   ]
  },
  {
   "cell_type": "code",
   "execution_count": 21,
   "id": "1b355d0f-5b9a-4128-9bb2-b0255bad6e65",
   "metadata": {},
   "outputs": [
    {
     "data": {
      "text/plain": [
       "customerID          0\n",
       "gender              0\n",
       "SeniorCitizen       0\n",
       "Partner             0\n",
       "Dependents          0\n",
       "tenure              0\n",
       "PhoneService        0\n",
       "MultipleLines       0\n",
       "InternetService     0\n",
       "OnlineSecurity      0\n",
       "OnlineBackup        0\n",
       "DeviceProtection    0\n",
       "TechSupport         0\n",
       "StreamingTV         0\n",
       "StreamingMovies     0\n",
       "Contract            0\n",
       "PaperlessBilling    0\n",
       "PaymentMethod       0\n",
       "MonthlyCharges      0\n",
       "TotalCharges        0\n",
       "Churn               0\n",
       "dtype: int64"
      ]
     },
     "execution_count": 21,
     "metadata": {},
     "output_type": "execute_result"
    }
   ],
   "source": [
    "# missing values\n",
    "df.isnull().sum()"
   ]
  },
  {
   "cell_type": "code",
   "execution_count": 23,
   "id": "4999e1a8-0811-49a2-b077-6085ddcdcc99",
   "metadata": {},
   "outputs": [
    {
     "data": {
      "text/plain": [
       "customerID          7043\n",
       "gender                 2\n",
       "SeniorCitizen          2\n",
       "Partner                2\n",
       "Dependents             2\n",
       "tenure                73\n",
       "PhoneService           2\n",
       "MultipleLines          3\n",
       "InternetService        3\n",
       "OnlineSecurity         3\n",
       "OnlineBackup           3\n",
       "DeviceProtection       3\n",
       "TechSupport            3\n",
       "StreamingTV            3\n",
       "StreamingMovies        3\n",
       "Contract               3\n",
       "PaperlessBilling       2\n",
       "PaymentMethod          4\n",
       "MonthlyCharges      1585\n",
       "TotalCharges        6531\n",
       "Churn                  2\n",
       "dtype: int64"
      ]
     },
     "execution_count": 23,
     "metadata": {},
     "output_type": "execute_result"
    }
   ],
   "source": [
    "# Check unique values per column (for data quality insight)\n",
    "df.nunique()"
   ]
  },
  {
   "cell_type": "code",
   "execution_count": 25,
   "id": "5ba66e99-607a-4f70-8554-6b161a51b861",
   "metadata": {},
   "outputs": [
    {
     "data": {
      "text/plain": [
       "TotalCharges\n",
       "20.2      11\n",
       "          11\n",
       "19.75      9\n",
       "19.65      8\n",
       "19.9       8\n",
       "          ..\n",
       "1990.5     1\n",
       "7362.9     1\n",
       "346.45     1\n",
       "306.6      1\n",
       "108.15     1\n",
       "Name: count, Length: 6531, dtype: int64"
      ]
     },
     "execution_count": 25,
     "metadata": {},
     "output_type": "execute_result"
    }
   ],
   "source": [
    "# Check 'TotalCharges' problem\n",
    "df['TotalCharges'].value_counts()"
   ]
  },
  {
   "cell_type": "code",
   "execution_count": 27,
   "id": "39348bfb-ac93-4868-a707-2bda5e476890",
   "metadata": {},
   "outputs": [],
   "source": [
    "# Fix TotalCharges (convert to numeric, errors='coerce' will turn bad values into NaN)\n",
    "df['TotalCharges']=pd.to_numeric(df['TotalCharges'], errors='coerce')"
   ]
  },
  {
   "cell_type": "code",
   "execution_count": 29,
   "id": "8d0e843e-7985-4084-814e-4551e3d11203",
   "metadata": {},
   "outputs": [
    {
     "data": {
      "text/plain": [
       "customerID           0\n",
       "gender               0\n",
       "SeniorCitizen        0\n",
       "Partner              0\n",
       "Dependents           0\n",
       "tenure               0\n",
       "PhoneService         0\n",
       "MultipleLines        0\n",
       "InternetService      0\n",
       "OnlineSecurity       0\n",
       "OnlineBackup         0\n",
       "DeviceProtection     0\n",
       "TechSupport          0\n",
       "StreamingTV          0\n",
       "StreamingMovies      0\n",
       "Contract             0\n",
       "PaperlessBilling     0\n",
       "PaymentMethod        0\n",
       "MonthlyCharges       0\n",
       "TotalCharges        11\n",
       "Churn                0\n",
       "dtype: int64"
      ]
     },
     "execution_count": 29,
     "metadata": {},
     "output_type": "execute_result"
    }
   ],
   "source": [
    "# check again missing values\n",
    "df.isnull().sum()"
   ]
  },
  {
   "cell_type": "code",
   "execution_count": 44,
   "id": "c82e3aab-bc41-49b4-93db-a336c70fe61e",
   "metadata": {},
   "outputs": [
    {
     "data": {
      "text/plain": [
       "Churn\n",
       "No     5174\n",
       "Yes    1869\n",
       "Name: count, dtype: int64"
      ]
     },
     "execution_count": 44,
     "metadata": {},
     "output_type": "execute_result"
    }
   ],
   "source": [
    "# Check Churn distribution\n",
    "df['Churn'].value_counts()"
   ]
  },
  {
   "cell_type": "code",
   "execution_count": 46,
   "id": "a25a9e28-f5ae-495e-b117-9c1eb85d35d4",
   "metadata": {},
   "outputs": [
    {
     "data": {
      "text/plain": [
       "Churn\n",
       "No     0.73463\n",
       "Yes    0.26537\n",
       "Name: proportion, dtype: float64"
      ]
     },
     "execution_count": 46,
     "metadata": {},
     "output_type": "execute_result"
    }
   ],
   "source": [
    "df['Churn'].value_counts(normalize=True)"
   ]
  },
  {
   "cell_type": "markdown",
   "id": "5d8d8e1e-d5a9-4028-b4ca-e8ccf2e5ca77",
   "metadata": {},
   "source": [
    "# 5. EDA : Second Round"
   ]
  },
  {
   "cell_type": "code",
   "execution_count": 42,
   "id": "bbe8b2ae-8d81-4798-97c1-9951b9dd0266",
   "metadata": {},
   "outputs": [
    {
     "data": {
      "image/png": "[encoded data removed]",
      "text/plain": [
       "<Figure size 640x480 with 1 Axes>"
      ]
     },
     "metadata": {},
     "output_type": "display_data"
    }
   ],
   "source": [
    "# Churn distribution plot\n",
    "sns.countplot(x='Churn', data=df)\n",
    "plt.title('Churn Distribution')\n",
    "plt.show()"
   ]
  },
  {
   "cell_type": "markdown",
   "id": "61b958ae-45c1-4f98-9908-6f534929bdfc",
   "metadata": {},
   "source": [
    "***Number of People who have churned is less than non-churned***"
   ]
  },
  {
   "cell_type": "code",
   "execution_count": 49,
   "id": "9858bf3a-695f-4529-806b-900cf66303b4",
   "metadata": {},
   "outputs": [
    {
     "data": {
      "image/png": "[encoded data removed]",
      "text/plain": [
       "<Figure size 640x480 with 1 Axes>"
      ]
     },
     "metadata": {},
     "output_type": "display_data"
    }
   ],
   "source": [
    "# Churn vs Contract type\n",
    "sns.countplot(x='Contract', hue='Churn', data=df)\n",
    "plt.title('Churn by Contract Type')\n",
    "plt.show()"
   ]
  },
  {
   "cell_type": "markdown",
   "id": "fcee5515-36f2-46a1-b831-6946658d1198",
   "metadata": {},
   "source": [
    "- ***Month-to-month contracts have the highest customer churn. The vast majority of customers who left had this type of contract.***\n",
    "- ***One-year and two-year contracts have very low churn. The longer the contract, the more likely customers are to stay.***\n",
    "- ***This shows a clear relationship: contract duration is a strong predictor of customer loyalty, with longer contracts leading to better retention.***"
   ]
  },
  {
   "cell_type": "code",
   "execution_count": 52,
   "id": "58eab696-719d-4323-aadc-cdf80aa1bbae",
   "metadata": {},
   "outputs": [
    {
     "data": {
      "image/png": "[encoded data removed]",
      "text/plain": [
       "<Figure size 1000x500 with 1 Axes>"
      ]
     },
     "metadata": {},
     "output_type": "display_data"
    }
   ],
   "source": [
    "# Churn vs Tenure\n",
    "plt.figure(figsize=(10,5))\n",
    "sns.histplot(df[df['Churn']=='Yes']['tenure'], color='red', label='Churned', kde=True)\n",
    "sns.histplot(df[df['Churn']=='No']['tenure'], color='green', label='Not Churned', kde=True)\n",
    "plt.legend()\n",
    "plt.title('Tenure distribution by Churn')\n",
    "plt.show()"
   ]
  },
  {
   "cell_type": "markdown",
   "id": "fe4eea37-1f9d-45be-a06b-eca2b6e59e2e",
   "metadata": {},
   "source": [
    "- ***The chart shows that new customers have the highest risk of churning.***\n",
    "- ***Churn is at its lowest for customers with a mid-range tenure (20-50 months).***\n",
    "- ***While the majority of long-term customers (70+ months) remain loyal, there is a slight, noticeable increase in churn within this group compared to the mid-tenure segment.***"
   ]
  },
  {
   "cell_type": "markdown",
   "id": "2c67404c-cc9b-4980-b888-3c983ae0e22a",
   "metadata": {},
   "source": [
    "# MonthlyCharges vs Churn\n",
    "plt.figure(figsize=(10,5))\n",
    "sns.boxplot(x='Churn', y='MonthlyCharges', data=df)\n",
    "plt.title('Monthly Charges vs Churn')\n",
    "plt.show()"
   ]
  },
  {
   "cell_type": "markdown",
   "id": "06ba1097-def8-47e0-b518-dbc403dd566c",
   "metadata": {},
   "source": [
    "- ***Customers with higher monthly charges are at a greater risk of churning compared to those with lower charges***\n",
    "- ***This suggests that price sensitivity is a significant factor in customer retention.***"
   ]
  },
  {
   "cell_type": "markdown",
   "id": "a452402e-c66a-4f1b-813c-e75087738528",
   "metadata": {},
   "source": [
    "### What can we do?\n",
    "- **Improve Onboarding:** Focus on the first few months to retain new customers, as this is when churn is highest.\n",
    "- **Incentivize Long-Term Contracts:** Promote one-year and two-year plans with discounts, as these customers are far less likely to churn.\n",
    "- **Review Pricing:** Address high monthly charges, which correlate with higher churn, by offering more flexible or discounted plans."
   ]
  },
  {
   "cell_type": "code",
   "execution_count": null,
   "id": "573b0d05-ed2e-4e4b-86dc-380874594fb1",
   "metadata": {},
   "outputs": [],
   "source": []
  }
 ],
 "metadata": {
  "kernelspec": {
   "display_name": "churn_project",
   "language": "python",
   "name": "churn_project"
  },
  "language_info": {
   "codemirror_mode": {
    "name": "ipython",
    "version": 3
   },
   "file_extension": ".py",
   "mimetype": "text/x-python",
   "name": "python",
   "nbconvert_exporter": "python",
   "pygments_lexer": "ipython3",
   "version": "3.13.4"
  }
 },
 "nbformat": 4,
 "nbformat_minor": 5
}

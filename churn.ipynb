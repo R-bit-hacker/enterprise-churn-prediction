{
 "cells": [
  {
   "cell_type": "markdown",
   "id": "87a58179-e047-40f1-809c-9847f83e6818",
   "metadata": {},
   "source": [
    "# 1. Import libraries"
   ]
  },
  {
   "cell_type": "code",
   "execution_count": 545,
   "id": "610b8932-7048-4a58-9d75-76f4a8195cce",
   "metadata": {},
   "outputs": [],
   "source": [
    "import pandas as pd\n",
    "import matplotlib.pyplot as plt\n",
    "import seaborn as sns\n",
    "from sklearn.model_selection import train_test_split, RandomizedSearchCV\n",
    "from sklearn.preprocessing import LabelEncoder, StandardScaler, OneHotEncoder\n",
    "from sklearn.linear_model import LogisticRegression\n",
    "from sklearn.metrics import accuracy_score, confusion_matrix, precision_score, recall_score, f1_score, roc_auc_score, RocCurveDisplay, classification_report, auc,precision_recall_curve, roc_curve\n",
    "import numpy as np\n",
    "from sklearn.ensemble import RandomForestClassifier\n",
    "from xgboost import XGBClassifier\n",
    "from math import ceil"
   ]
  },
  {
   "cell_type": "markdown",
   "id": "d869f22f-2a61-42b9-ad90-c72448671c2f",
   "metadata": {},
   "source": [
    "# 2. Load dataset"
   ]
  },
  {
   "cell_type": "code",
   "execution_count": 439,
   "id": "3b907ea7-d862-4768-94c0-97169568e31c",
   "metadata": {},
   "outputs": [],
   "source": [
    "df=pd.read_csv(\"C:/Users/DELL/Desktop/jupyter projects/AI-Journey/enterprise-churn/data/WA_Fn-UseC_-Telco-Customer-Churn.csv\")"
   ]
  },
  {
   "cell_type": "markdown",
   "id": "b802ae4f-e98d-4b5f-91a4-0e92e07731cd",
   "metadata": {},
   "source": [
    "# 3. Data info"
   ]
  },
  {
   "cell_type": "code",
   "execution_count": 442,
   "id": "18bfc40f-2e16-4340-8f14-935108d36719",
   "metadata": {},
   "outputs": [
    {
     "name": "stdout",
     "output_type": "stream",
     "text": [
      "Shape:\n",
      " (7043, 21)\n",
      "Columns:\n",
      " Index(['customerID', 'gender', 'SeniorCitizen', 'Partner', 'Dependents',\n",
      "       'tenure', 'PhoneService', 'MultipleLines', 'InternetService',\n",
      "       'OnlineSecurity', 'OnlineBackup', 'DeviceProtection', 'TechSupport',\n",
      "       'StreamingTV', 'StreamingMovies', 'Contract', 'PaperlessBilling',\n",
      "       'PaymentMethod', 'MonthlyCharges', 'TotalCharges', 'Churn'],\n",
      "      dtype='object')\n",
      "Data types:\n",
      " customerID           object\n",
      "gender               object\n",
      "SeniorCitizen         int64\n",
      "Partner              object\n",
      "Dependents           object\n",
      "tenure                int64\n",
      "PhoneService         object\n",
      "MultipleLines        object\n",
      "InternetService      object\n",
      "OnlineSecurity       object\n",
      "OnlineBackup         object\n",
      "DeviceProtection     object\n",
      "TechSupport          object\n",
      "StreamingTV          object\n",
      "StreamingMovies      object\n",
      "Contract             object\n",
      "PaperlessBilling     object\n",
      "PaymentMethod        object\n",
      "MonthlyCharges      float64\n",
      "TotalCharges         object\n",
      "Churn                object\n",
      "dtype: object\n",
      "\n",
      "    customerID  gender  SeniorCitizen Partner Dependents  tenure PhoneService  \\\n",
      "0  7590-VHVEG  Female              0     Yes         No       1           No   \n",
      "1  5575-GNVDE    Male              0      No         No      34          Yes   \n",
      "2  3668-QPYBK    Male              0      No         No       2          Yes   \n",
      "3  7795-CFOCW    Male              0      No         No      45           No   \n",
      "4  9237-HQITU  Female              0      No         No       2          Yes   \n",
      "\n",
      "      MultipleLines InternetService OnlineSecurity  ... DeviceProtection  \\\n",
      "0  No phone service             DSL             No  ...               No   \n",
      "1                No             DSL            Yes  ...              Yes   \n",
      "2                No             DSL            Yes  ...               No   \n",
      "3  No phone service             DSL            Yes  ...              Yes   \n",
      "4                No     Fiber optic             No  ...               No   \n",
      "\n",
      "  TechSupport StreamingTV StreamingMovies        Contract PaperlessBilling  \\\n",
      "0          No          No              No  Month-to-month              Yes   \n",
      "1          No          No              No        One year               No   \n",
      "2          No          No              No  Month-to-month              Yes   \n",
      "3         Yes          No              No        One year               No   \n",
      "4          No          No              No  Month-to-month              Yes   \n",
      "\n",
      "               PaymentMethod MonthlyCharges  TotalCharges Churn  \n",
      "0           Electronic check          29.85         29.85    No  \n",
      "1               Mailed check          56.95        1889.5    No  \n",
      "2               Mailed check          53.85        108.15   Yes  \n",
      "3  Bank transfer (automatic)          42.30       1840.75    No  \n",
      "4           Electronic check          70.70        151.65   Yes  \n",
      "\n",
      "[5 rows x 21 columns]\n"
     ]
    }
   ],
   "source": [
    "print(\"Shape:\\n\", df.shape)\n",
    "print(\"Columns:\\n\", df.columns)\n",
    "print(\"Data types:\\n\", df.dtypes)\n",
    "\n",
    "# first few rows\n",
    "print(\"\\n\", df.head(5))"
   ]
  },
  {
   "cell_type": "code",
   "execution_count": 444,
   "id": "ccc5f2d2-6d2e-4bf6-a140-596876651c0e",
   "metadata": {},
   "outputs": [
    {
     "name": "stdout",
     "output_type": "stream",
     "text": [
      "Categorical Columns:\n",
      " Index(['customerID', 'gender', 'Partner', 'Dependents', 'PhoneService',\n",
      "       'MultipleLines', 'InternetService', 'OnlineSecurity', 'OnlineBackup',\n",
      "       'DeviceProtection', 'TechSupport', 'StreamingTV', 'StreamingMovies',\n",
      "       'Contract', 'PaperlessBilling', 'PaymentMethod', 'TotalCharges',\n",
      "       'Churn'],\n",
      "      dtype='object')\n",
      "\n",
      "NumericalColumns:\n",
      " Index(['SeniorCitizen', 'tenure', 'MonthlyCharges'], dtype='object')\n"
     ]
    }
   ],
   "source": [
    "# identifying categorical and numerical columns\n",
    "categorical_cols=df.select_dtypes(include=['object']).columns\n",
    "numerical_cols=df.select_dtypes(exclude=['object']).columns\n",
    "\n",
    "print(\"Categorical Columns:\\n\", categorical_cols)\n",
    "print(\"\\nNumericalColumns:\\n\", numerical_cols)"
   ]
  },
  {
   "cell_type": "markdown",
   "id": "27e36cef-bab4-4c28-8d10-f8ffb6ddf498",
   "metadata": {},
   "source": [
    "# 4. EDA : First Round"
   ]
  },
  {
   "cell_type": "code",
   "execution_count": 447,
   "id": "1b355d0f-5b9a-4128-9bb2-b0255bad6e65",
   "metadata": {},
   "outputs": [
    {
     "data": {
      "text/plain": [
       "customerID          0\n",
       "gender              0\n",
       "SeniorCitizen       0\n",
       "Partner             0\n",
       "Dependents          0\n",
       "tenure              0\n",
       "PhoneService        0\n",
       "MultipleLines       0\n",
       "InternetService     0\n",
       "OnlineSecurity      0\n",
       "OnlineBackup        0\n",
       "DeviceProtection    0\n",
       "TechSupport         0\n",
       "StreamingTV         0\n",
       "StreamingMovies     0\n",
       "Contract            0\n",
       "PaperlessBilling    0\n",
       "PaymentMethod       0\n",
       "MonthlyCharges      0\n",
       "TotalCharges        0\n",
       "Churn               0\n",
       "dtype: int64"
      ]
     },
     "execution_count": 447,
     "metadata": {},
     "output_type": "execute_result"
    }
   ],
   "source": [
    "# missing values\n",
    "df.isnull().sum()"
   ]
  },
  {
   "cell_type": "code",
   "execution_count": 449,
   "id": "4999e1a8-0811-49a2-b077-6085ddcdcc99",
   "metadata": {},
   "outputs": [
    {
     "data": {
      "text/plain": [
       "customerID          7043\n",
       "gender                 2\n",
       "SeniorCitizen          2\n",
       "Partner                2\n",
       "Dependents             2\n",
       "tenure                73\n",
       "PhoneService           2\n",
       "MultipleLines          3\n",
       "InternetService        3\n",
       "OnlineSecurity         3\n",
       "OnlineBackup           3\n",
       "DeviceProtection       3\n",
       "TechSupport            3\n",
       "StreamingTV            3\n",
       "StreamingMovies        3\n",
       "Contract               3\n",
       "PaperlessBilling       2\n",
       "PaymentMethod          4\n",
       "MonthlyCharges      1585\n",
       "TotalCharges        6531\n",
       "Churn                  2\n",
       "dtype: int64"
      ]
     },
     "execution_count": 449,
     "metadata": {},
     "output_type": "execute_result"
    }
   ],
   "source": [
    "# Check unique values per column (for data quality insight)\n",
    "df.nunique()"
   ]
  },
  {
   "cell_type": "code",
   "execution_count": 451,
   "id": "5ba66e99-607a-4f70-8554-6b161a51b861",
   "metadata": {},
   "outputs": [
    {
     "data": {
      "text/plain": [
       "TotalCharges\n",
       "20.2      11\n",
       "          11\n",
       "19.75      9\n",
       "19.65      8\n",
       "19.9       8\n",
       "          ..\n",
       "1990.5     1\n",
       "7362.9     1\n",
       "346.45     1\n",
       "306.6      1\n",
       "108.15     1\n",
       "Name: count, Length: 6531, dtype: int64"
      ]
     },
     "execution_count": 451,
     "metadata": {},
     "output_type": "execute_result"
    }
   ],
   "source": [
    "# Check 'TotalCharges' problem\n",
    "df['TotalCharges'].value_counts()"
   ]
  },
  {
   "cell_type": "code",
   "execution_count": 453,
   "id": "39348bfb-ac93-4868-a707-2bda5e476890",
   "metadata": {},
   "outputs": [],
   "source": [
    "# Fix TotalCharges (convert to numeric, errors='coerce' will turn bad values into NaN)\n",
    "df['TotalCharges']=pd.to_numeric(df['TotalCharges'], errors='coerce')"
   ]
  },
  {
   "cell_type": "code",
   "execution_count": 455,
   "id": "8d0e843e-7985-4084-814e-4551e3d11203",
   "metadata": {},
   "outputs": [
    {
     "data": {
      "text/plain": [
       "customerID           0\n",
       "gender               0\n",
       "SeniorCitizen        0\n",
       "Partner              0\n",
       "Dependents           0\n",
       "tenure               0\n",
       "PhoneService         0\n",
       "MultipleLines        0\n",
       "InternetService      0\n",
       "OnlineSecurity       0\n",
       "OnlineBackup         0\n",
       "DeviceProtection     0\n",
       "TechSupport          0\n",
       "StreamingTV          0\n",
       "StreamingMovies      0\n",
       "Contract             0\n",
       "PaperlessBilling     0\n",
       "PaymentMethod        0\n",
       "MonthlyCharges       0\n",
       "TotalCharges        11\n",
       "Churn                0\n",
       "dtype: int64"
      ]
     },
     "execution_count": 455,
     "metadata": {},
     "output_type": "execute_result"
    }
   ],
   "source": [
    "# check again missing values\n",
    "df.isnull().sum()"
   ]
  },
  {
   "cell_type": "code",
   "execution_count": 457,
   "id": "c82e3aab-bc41-49b4-93db-a336c70fe61e",
   "metadata": {},
   "outputs": [
    {
     "data": {
      "text/plain": [
       "Churn\n",
       "No     5174\n",
       "Yes    1869\n",
       "Name: count, dtype: int64"
      ]
     },
     "execution_count": 457,
     "metadata": {},
     "output_type": "execute_result"
    }
   ],
   "source": [
    "# Check Churn distribution\n",
    "df['Churn'].value_counts()"
   ]
  },
  {
   "cell_type": "code",
   "execution_count": 459,
   "id": "a25a9e28-f5ae-495e-b117-9c1eb85d35d4",
   "metadata": {},
   "outputs": [
    {
     "data": {
      "text/plain": [
       "Churn\n",
       "No     0.73463\n",
       "Yes    0.26537\n",
       "Name: proportion, dtype: float64"
      ]
     },
     "execution_count": 459,
     "metadata": {},
     "output_type": "execute_result"
    }
   ],
   "source": [
    "df['Churn'].value_counts(normalize=True)"
   ]
  },
  {
   "cell_type": "markdown",
   "id": "5d8d8e1e-d5a9-4028-b4ca-e8ccf2e5ca77",
   "metadata": {},
   "source": [
    "# 5. EDA : Second Round"
   ]
  },
  {
   "cell_type": "code",
   "execution_count": 462,
   "id": "bbe8b2ae-8d81-4798-97c1-9951b9dd0266",
   "metadata": {},
   "outputs": [
    {
     "data": {
      "image/png": "[encoded data removed]",
      "text/plain": [
       "<Figure size 640x480 with 1 Axes>"
      ]
     },
     "metadata": {},
     "output_type": "display_data"
    }
   ],
   "source": [
    "# Churn distribution plot\n",
    "sns.countplot(x='Churn', data=df)\n",
    "plt.title('Churn Distribution')\n",
    "plt.show()"
   ]
  },
  {
   "cell_type": "markdown",
   "id": "61b958ae-45c1-4f98-9908-6f534929bdfc",
   "metadata": {},
   "source": [
    "***Number of People who have churned is less than non-churned***"
   ]
  },
  {
   "cell_type": "code",
   "execution_count": 465,
   "id": "9858bf3a-695f-4529-806b-900cf66303b4",
   "metadata": {},
   "outputs": [
    {
     "data": {
      "image/png": "[encoded data removed]",
      "text/plain": [
       "<Figure size 640x480 with 1 Axes>"
      ]
     },
     "metadata": {},
     "output_type": "display_data"
    }
   ],
   "source": [
    "# Churn vs Contract type\n",
    "sns.countplot(x='Contract', hue='Churn', data=df)\n",
    "plt.title('Churn by Contract Type')\n",
    "plt.show()"
   ]
  },
  {
   "cell_type": "markdown",
   "id": "fcee5515-36f2-46a1-b831-6946658d1198",
   "metadata": {},
   "source": [
    "- ***Month-to-month contracts have the highest customer churn. The vast majority of customers who left had this type of contract.***\n",
    "- ***One-year and two-year contracts have very low churn. The longer the contract, the more likely customers are to stay.***\n",
    "- ***This shows a clear relationship: contract duration is a strong predictor of customer loyalty, with longer contracts leading to better retention.***"
   ]
  },
  {
   "cell_type": "code",
   "execution_count": 468,
   "id": "58eab696-719d-4323-aadc-cdf80aa1bbae",
   "metadata": {},
   "outputs": [
    {
     "data": {
      "image/png": "[encoded data removed]",
      "text/plain": [
       "<Figure size 1000x500 with 1 Axes>"
      ]
     },
     "metadata": {},
     "output_type": "display_data"
    }
   ],
   "source": [
    "# Churn vs Tenure\n",
    "plt.figure(figsize=(10,5))\n",
    "sns.histplot(df[df['Churn']=='Yes']['tenure'], color='red', label='Churned', kde=True)\n",
    "sns.histplot(df[df['Churn']=='No']['tenure'], color='green', label='Not Churned', kde=True)\n",
    "plt.legend()\n",
    "plt.title('Tenure distribution by Churn')\n",
    "plt.show()"
   ]
  },
  {
   "cell_type": "markdown",
   "id": "fe4eea37-1f9d-45be-a06b-eca2b6e59e2e",
   "metadata": {},
   "source": [
    "- ***The chart shows that new customers have the highest risk of churning.***\n",
    "- ***Churn is at its lowest for customers with a mid-range tenure (20-50 months).***\n",
    "- ***While the majority of long-term customers (70+ months) remain loyal, there is a slight, noticeable increase in churn within this group compared to the mid-tenure segment.***"
   ]
  },
  {
   "cell_type": "markdown",
   "id": "2c67404c-cc9b-4980-b888-3c983ae0e22a",
   "metadata": {},
   "source": [
    "# MonthlyCharges vs Churn\n",
    "plt.figure(figsize=(10,5))\n",
    "sns.boxplot(x='Churn', y='MonthlyCharges', data=df)\n",
    "plt.title('Monthly Charges vs Churn')\n",
    "plt.show()"
   ]
  },
  {
   "cell_type": "markdown",
   "id": "06ba1097-def8-47e0-b518-dbc403dd566c",
   "metadata": {},
   "source": [
    "- ***Customers with higher monthly charges are at a greater risk of churning compared to those with lower charges***\n",
    "- ***This suggests that price sensitivity is a significant factor in customer retention.***"
   ]
  },
  {
   "cell_type": "markdown",
   "id": "a452402e-c66a-4f1b-813c-e75087738528",
   "metadata": {},
   "source": [
    "### What can we do?\n",
    "- **Improve Onboarding:** Focus on the first few months to retain new customers, as this is when churn is highest.\n",
    "- **Incentivize Long-Term Contracts:** Promote one-year and two-year plans with discounts, as these customers are far less likely to churn.\n",
    "- **Review Pricing:** Address high monthly charges, which correlate with higher churn, by offering more flexible or discounted plans."
   ]
  },
  {
   "cell_type": "markdown",
   "id": "ddc238a4-af7b-4b7c-a877-3d9d3794850a",
   "metadata": {},
   "source": [
    "# 6. Data Cleaning & Preprocessing"
   ]
  },
  {
   "cell_type": "markdown",
   "id": "5df647cc-d854-4c85-9f1a-ebed8595868f",
   "metadata": {},
   "source": [
    "##### Drop useless columns\n",
    "\n",
    "df_clean= df.drop(['customerID'], axis=1)\n",
    "\n",
    "##### fill missing values with 0 (TotalCharges)\n",
    "\n",
    "df_clean['TotalCharges']=df_clean['TotalCharges'].fillna(0)\n",
    "\n",
    "##### Encode categorical variables\n",
    "\n",
    "le=LabelEncoder()\n",
    "\n",
    "for col in df_clean.select_dtypes(include=['object']).columns:\n",
    "\n",
    "    df_clean[col]=le.fit_transform(df_clean[col])\n",
    "\n",
    "##### feature scaling on numeric columns\n",
    "\n",
    "scaler=StandardScaler()\n",
    "\n",
    "numeric_cols= ['tenure', 'MonthlyCharges', 'TotalCharges']\n",
    "\n",
    "df_clean[numeric_cols]=scaler.fit_transform(df_clean[numeric_cols])\n",
    "\n",
    "##### train/test split\n",
    "\n",
    "X= df_clean.drop('Churn', axis=1)\n",
    "\n",
    "y= df_clean['Churn']\n",
    "\n",
    "X_train, X_test, y_train, y_test= train_test_split(X,y, test_size=0.2, random_state=42)\n",
    "\n",
    "X_train.shape, X_test.shape"
   ]
  },
  {
   "cell_type": "markdown",
   "id": "f41e003d-f8ed-45a0-8fa7-d80dc09491e7",
   "metadata": {},
   "source": [
    "- For binary categories like gender (like Yes/No, Male/Female), **Label Encoding is fine**.\n",
    "- For non-binary categories like PaymentMethod (with 3 or more options), **One-Hot Encoding is safer**.\n",
    "\n",
    "**Why?**\n",
    "\n",
    "- Label Encoding would assign numbers like 0, 1, 2, 3 to a feature like `PaymentMethod`. The model would then mistakenly assume a mathematical or ordinal relationship where 3 > 1 > 0, which is incorrect.\n",
    "- One-Hot Encoding avoids this by creating a separate binary column for each category, preventing the model from assuming any false ranking or relationship."
   ]
  },
  {
   "cell_type": "markdown",
   "id": "8e56cfc9-5262-4440-ba8d-bbd6f5cb0737",
   "metadata": {},
   "source": [
    "# 7. Data Cleaning and Preprocessing using hybrid encoding"
   ]
  },
  {
   "cell_type": "code",
   "execution_count": 478,
   "id": "427cd8ce-787a-47f1-b537-a2a636fd5b50",
   "metadata": {},
   "outputs": [
    {
     "data": {
      "text/plain": [
       "((5634, 30), (1409, 30))"
      ]
     },
     "execution_count": 478,
     "metadata": {},
     "output_type": "execute_result"
    }
   ],
   "source": [
    "import pandas as pd\n",
    "from sklearn.model_selection import train_test_split\n",
    "from sklearn.preprocessing import OneHotEncoder, LabelEncoder, StandardScaler\n",
    "\n",
    "# Drop useless column\n",
    "df_clean = df.drop(['customerID'], axis=1)\n",
    "\n",
    "# Handle missing values\n",
    "df_clean['TotalCharges'] = df_clean['TotalCharges'].fillna(0)\n",
    "\n",
    "# Separate binary and multi-class categorical columns\n",
    "binary_cols = [col for col in df_clean.select_dtypes(include=['object']).columns \n",
    "               if df_clean[col].nunique() == 2]\n",
    "multi_cols = [col for col in df_clean.select_dtypes(include=['object']).columns \n",
    "              if df_clean[col].nunique() > 2 and col != 'Churn']\n",
    "\n",
    "# Label Encode binary columns\n",
    "le = LabelEncoder()\n",
    "for col in binary_cols + ['Churn']:\n",
    "    df_clean[col] = le.fit_transform(df_clean[col])\n",
    "\n",
    "# One-Hot Encode multi-class categorical columns\n",
    "ohe = OneHotEncoder(drop='first', sparse_output=False)\n",
    "ohe_df = pd.DataFrame(ohe.fit_transform(df_clean[multi_cols]), \n",
    "                      columns=ohe.get_feature_names_out(multi_cols))\n",
    "\n",
    "# Drop original multi-class columns & merge OHE columns\n",
    "df_clean = df_clean.drop(multi_cols, axis=1)\n",
    "df_clean = pd.concat([df_clean, ohe_df], axis=1)\n",
    "\n",
    "# Feature scaling\n",
    "scaler = StandardScaler()\n",
    "numeric_cols = ['tenure', 'MonthlyCharges', 'TotalCharges']\n",
    "df_clean[numeric_cols] = scaler.fit_transform(df_clean[numeric_cols])\n",
    "\n",
    "# Train/Test Split\n",
    "X = df_clean.drop('Churn', axis=1)\n",
    "y = df_clean['Churn']\n",
    "X_train, X_test, y_train, y_test = train_test_split(X, y, test_size=0.2, random_state=42)\n",
    "\n",
    "X_train.shape, X_test.shape\n"
   ]
  },
  {
   "cell_type": "markdown",
   "id": "a0c6183a-64bb-42cc-8862-bb9d8b52735e",
   "metadata": {},
   "source": [
    "### Confirmations\n",
    "\n",
    "* **Shape is correct:** the shapes `(5634, 30)` for the training set and `(1409, 30)` for the testing set are correct. The total number of features (columns) is 30, which is the result of applying both Label and One-Hot Encoding to the categorical columns and retaining the numerical ones.\n",
    "* **No missing values:** the code handles missing values by filling `NaN` in `TotalCharges` with 0. After this step, the dataset would have no missing values.\n",
    "* **Encoded format is logical:** the encoding format is highly logical. Using `LabelEncoder` for binary columns and `OneHotEncoder` for multi-class columns is considered a **best practice** in data preprocessing. It correctly avoids assigning a false sense of order to non-binary categories, which improves model performance.\n",
    "\n",
    "***\n",
    "\n",
    "### One-Hot Encoding Drawbacks for Large Datasets\n",
    "\n",
    "The primary drawback of One-Hot Encoding on a very large dataset (especially one with many unique categorical features) is the **curse of dimensionality**.\n",
    "\n",
    "* **Increased Memory Usage:** It creates a new column for every unique category. If a column has thousands of unique values, this can lead to a massive number of new columns, consuming a huge amount of memory and making the dataset sparse (mostly filled with zeros).\n",
    "* **Slower Training:** A high number of dimensions can significantly slow down the training process of many machine learning models and make them less efficient.\n",
    "\n",
    "***\n",
    "\n",
    "### Encoding Preference for a 1 Million+ Row Dataset\n",
    "\n",
    "For a dataset with 1 million+ rows and many categorical features, I would prefer a more **memory-efficient encoding method** than standard One-Hot Encoding.\n",
    "\n",
    "* **Target Encoding:** This method replaces each category with the mean of the target variable for that category. It is very effective but can be prone to overfitting.\n",
    "* **Feature Hashing (Hashing Trick):** This is a very memory-efficient method that maps categorical features to a fixed number of dimensions using a hash function. It avoids creating a new column for every unique category, which is ideal for massive datasets.\n",
    "* **Embeddings in Deep Learning:** Embeddings convert categorical data into **dense vectors** (arrays of numbers) that capture relationships.\n",
    "\n",
    "    * **Pros:** They are **scalable** for features with many unique categories, avoiding the \"curse of dimensionality\" seen with One-Hot Encoding.\n",
    "    * **Cons:** They **increase training complexity**, as the model must learn the embedding vectors in addition to its main task."
   ]
  },
  {
   "cell_type": "markdown",
   "id": "9a59cfa6-f501-4385-9b97-637cd89f775b",
   "metadata": {},
   "source": [
    "# 8.  Baseline Model (Logistic Regression) + Probability Thinking."
   ]
  },
  {
   "cell_type": "markdown",
   "id": "51684dc0-5afe-4e07-b656-7004ba7cf683",
   "metadata": {},
   "source": [
    "## Step 1 — Data Prep\n",
    "- Target = Churn\n",
    "- Features = remaining columns (in encoded form)"
   ]
  },
  {
   "cell_type": "code",
   "execution_count": 483,
   "id": "fd5da8b6-9114-4d5e-bd31-f13ad4a7638c",
   "metadata": {},
   "outputs": [
    {
     "data": {
      "text/html": [
       "<style>#sk-container-id-3 {\n",
       "  /* Definition of color scheme common for light and dark mode */\n",
       "  --sklearn-color-text: #000;\n",
       "  --sklearn-color-text-muted: #666;\n",
       "  --sklearn-color-line: gray;\n",
       "  /* Definition of color scheme for unfitted estimators */\n",
       "  --sklearn-color-unfitted-level-0: #fff5e6;\n",
       "  --sklearn-color-unfitted-level-1: #f6e4d2;\n",
       "  --sklearn-color-unfitted-level-2: #ffe0b3;\n",
       "  --sklearn-color-unfitted-level-3: chocolate;\n",
       "  /* Definition of color scheme for fitted estimators */\n",
       "  --sklearn-color-fitted-level-0: #f0f8ff;\n",
       "  --sklearn-color-fitted-level-1: #d4ebff;\n",
       "  --sklearn-color-fitted-level-2: #b3dbfd;\n",
       "  --sklearn-color-fitted-level-3: cornflowerblue;\n",
       "\n",
       "  /* Specific color for light theme */\n",
       "  --sklearn-color-text-on-default-background: var(--sg-text-color, var(--theme-code-foreground, var(--jp-content-font-color1, black)));\n",
       "  --sklearn-color-background: var(--sg-background-color, var(--theme-background, var(--jp-layout-color0, white)));\n",
       "  --sklearn-color-border-box: var(--sg-text-color, var(--theme-code-foreground, var(--jp-content-font-color1, black)));\n",
       "  --sklearn-color-icon: #696969;\n",
       "\n",
       "  @media (prefers-color-scheme: dark) {\n",
       "    /* Redefinition of color scheme for dark theme */\n",
       "    --sklearn-color-text-on-default-background: var(--sg-text-color, var(--theme-code-foreground, var(--jp-content-font-color1, white)));\n",
       "    --sklearn-color-background: var(--sg-background-color, var(--theme-background, var(--jp-layout-color0, #111)));\n",
       "    --sklearn-color-border-box: var(--sg-text-color, var(--theme-code-foreground, var(--jp-content-font-color1, white)));\n",
       "    --sklearn-color-icon: #878787;\n",
       "  }\n",
       "}\n",
       "\n",
       "#sk-container-id-3 {\n",
       "  color: var(--sklearn-color-text);\n",
       "}\n",
       "\n",
       "#sk-container-id-3 pre {\n",
       "  padding: 0;\n",
       "}\n",
       "\n",
       "#sk-container-id-3 input.sk-hidden--visually {\n",
       "  border: 0;\n",
       "  clip: rect(1px 1px 1px 1px);\n",
       "  clip: rect(1px, 1px, 1px, 1px);\n",
       "  height: 1px;\n",
       "  margin: -1px;\n",
       "  overflow: hidden;\n",
       "  padding: 0;\n",
       "  position: absolute;\n",
       "  width: 1px;\n",
       "}\n",
       "\n",
       "#sk-container-id-3 div.sk-dashed-wrapped {\n",
       "  border: 1px dashed var(--sklearn-color-line);\n",
       "  margin: 0 0.4em 0.5em 0.4em;\n",
       "  box-sizing: border-box;\n",
       "  padding-bottom: 0.4em;\n",
       "  background-color: var(--sklearn-color-background);\n",
       "}\n",
       "\n",
       "#sk-container-id-3 div.sk-container {\n",
       "  /* jupyter's `normalize.less` sets `[hidden] { display: none; }`\n",
       "     but bootstrap.min.css set `[hidden] { display: none !important; }`\n",
       "     so we also need the `!important` here to be able to override the\n",
       "     default hidden behavior on the sphinx rendered scikit-learn.org.\n",
       "     See: https://github.com/scikit-learn/scikit-learn/issues/21755 */\n",
       "  display: inline-block !important;\n",
       "  position: relative;\n",
       "}\n",
       "\n",
       "#sk-container-id-3 div.sk-text-repr-fallback {\n",
       "  display: none;\n",
       "}\n",
       "\n",
       "div.sk-parallel-item,\n",
       "div.sk-serial,\n",
       "div.sk-item {\n",
       "  /* draw centered vertical line to link estimators */\n",
       "  background-image: linear-gradient(var(--sklearn-color-text-on-default-background), var(--sklearn-color-text-on-default-background));\n",
       "  background-size: 2px 100%;\n",
       "  background-repeat: no-repeat;\n",
       "  background-position: center center;\n",
       "}\n",
       "\n",
       "/* Parallel-specific style estimator block */\n",
       "\n",
       "#sk-container-id-3 div.sk-parallel-item::after {\n",
       "  content: \"\";\n",
       "  width: 100%;\n",
       "  border-bottom: 2px solid var(--sklearn-color-text-on-default-background);\n",
       "  flex-grow: 1;\n",
       "}\n",
       "\n",
       "#sk-container-id-3 div.sk-parallel {\n",
       "  display: flex;\n",
       "  align-items: stretch;\n",
       "  justify-content: center;\n",
       "  background-color: var(--sklearn-color-background);\n",
       "  position: relative;\n",
       "}\n",
       "\n",
       "#sk-container-id-3 div.sk-parallel-item {\n",
       "  display: flex;\n",
       "  flex-direction: column;\n",
       "}\n",
       "\n",
       "#sk-container-id-3 div.sk-parallel-item:first-child::after {\n",
       "  align-self: flex-end;\n",
       "  width: 50%;\n",
       "}\n",
       "\n",
       "#sk-container-id-3 div.sk-parallel-item:last-child::after {\n",
       "  align-self: flex-start;\n",
       "  width: 50%;\n",
       "}\n",
       "\n",
       "#sk-container-id-3 div.sk-parallel-item:only-child::after {\n",
       "  width: 0;\n",
       "}\n",
       "\n",
       "/* Serial-specific style estimator block */\n",
       "\n",
       "#sk-container-id-3 div.sk-serial {\n",
       "  display: flex;\n",
       "  flex-direction: column;\n",
       "  align-items: center;\n",
       "  background-color: var(--sklearn-color-background);\n",
       "  padding-right: 1em;\n",
       "  padding-left: 1em;\n",
       "}\n",
       "\n",
       "\n",
       "/* Toggleable style: style used for estimator/Pipeline/ColumnTransformer box that is\n",
       "clickable and can be expanded/collapsed.\n",
       "- Pipeline and ColumnTransformer use this feature and define the default style\n",
       "- Estimators will overwrite some part of the style using the `sk-estimator` class\n",
       "*/\n",
       "\n",
       "/* Pipeline and ColumnTransformer style (default) */\n",
       "\n",
       "#sk-container-id-3 div.sk-toggleable {\n",
       "  /* Default theme specific background. It is overwritten whether we have a\n",
       "  specific estimator or a Pipeline/ColumnTransformer */\n",
       "  background-color: var(--sklearn-color-background);\n",
       "}\n",
       "\n",
       "/* Toggleable label */\n",
       "#sk-container-id-3 label.sk-toggleable__label {\n",
       "  cursor: pointer;\n",
       "  display: flex;\n",
       "  width: 100%;\n",
       "  margin-bottom: 0;\n",
       "  padding: 0.5em;\n",
       "  box-sizing: border-box;\n",
       "  text-align: center;\n",
       "  align-items: start;\n",
       "  justify-content: space-between;\n",
       "  gap: 0.5em;\n",
       "}\n",
       "\n",
       "#sk-container-id-3 label.sk-toggleable__label .caption {\n",
       "  font-size: 0.6rem;\n",
       "  font-weight: lighter;\n",
       "  color: var(--sklearn-color-text-muted);\n",
       "}\n",
       "\n",
       "#sk-container-id-3 label.sk-toggleable__label-arrow:before {\n",
       "  /* Arrow on the left of the label */\n",
       "  content: \"▸\";\n",
       "  float: left;\n",
       "  margin-right: 0.25em;\n",
       "  color: var(--sklearn-color-icon);\n",
       "}\n",
       "\n",
       "#sk-container-id-3 label.sk-toggleable__label-arrow:hover:before {\n",
       "  color: var(--sklearn-color-text);\n",
       "}\n",
       "\n",
       "/* Toggleable content - dropdown */\n",
       "\n",
       "#sk-container-id-3 div.sk-toggleable__content {\n",
       "  display: none;\n",
       "  text-align: left;\n",
       "  /* unfitted */\n",
       "  background-color: var(--sklearn-color-unfitted-level-0);\n",
       "}\n",
       "\n",
       "#sk-container-id-3 div.sk-toggleable__content.fitted {\n",
       "  /* fitted */\n",
       "  background-color: var(--sklearn-color-fitted-level-0);\n",
       "}\n",
       "\n",
       "#sk-container-id-3 div.sk-toggleable__content pre {\n",
       "  margin: 0.2em;\n",
       "  border-radius: 0.25em;\n",
       "  color: var(--sklearn-color-text);\n",
       "  /* unfitted */\n",
       "  background-color: var(--sklearn-color-unfitted-level-0);\n",
       "}\n",
       "\n",
       "#sk-container-id-3 div.sk-toggleable__content.fitted pre {\n",
       "  /* unfitted */\n",
       "  background-color: var(--sklearn-color-fitted-level-0);\n",
       "}\n",
       "\n",
       "#sk-container-id-3 input.sk-toggleable__control:checked~div.sk-toggleable__content {\n",
       "  /* Expand drop-down */\n",
       "  display: block;\n",
       "  width: 100%;\n",
       "  overflow: visible;\n",
       "}\n",
       "\n",
       "#sk-container-id-3 input.sk-toggleable__control:checked~label.sk-toggleable__label-arrow:before {\n",
       "  content: \"▾\";\n",
       "}\n",
       "\n",
       "/* Pipeline/ColumnTransformer-specific style */\n",
       "\n",
       "#sk-container-id-3 div.sk-label input.sk-toggleable__control:checked~label.sk-toggleable__label {\n",
       "  color: var(--sklearn-color-text);\n",
       "  background-color: var(--sklearn-color-unfitted-level-2);\n",
       "}\n",
       "\n",
       "#sk-container-id-3 div.sk-label.fitted input.sk-toggleable__control:checked~label.sk-toggleable__label {\n",
       "  background-color: var(--sklearn-color-fitted-level-2);\n",
       "}\n",
       "\n",
       "/* Estimator-specific style */\n",
       "\n",
       "/* Colorize estimator box */\n",
       "#sk-container-id-3 div.sk-estimator input.sk-toggleable__control:checked~label.sk-toggleable__label {\n",
       "  /* unfitted */\n",
       "  background-color: var(--sklearn-color-unfitted-level-2);\n",
       "}\n",
       "\n",
       "#sk-container-id-3 div.sk-estimator.fitted input.sk-toggleable__control:checked~label.sk-toggleable__label {\n",
       "  /* fitted */\n",
       "  background-color: var(--sklearn-color-fitted-level-2);\n",
       "}\n",
       "\n",
       "#sk-container-id-3 div.sk-label label.sk-toggleable__label,\n",
       "#sk-container-id-3 div.sk-label label {\n",
       "  /* The background is the default theme color */\n",
       "  color: var(--sklearn-color-text-on-default-background);\n",
       "}\n",
       "\n",
       "/* On hover, darken the color of the background */\n",
       "#sk-container-id-3 div.sk-label:hover label.sk-toggleable__label {\n",
       "  color: var(--sklearn-color-text);\n",
       "  background-color: var(--sklearn-color-unfitted-level-2);\n",
       "}\n",
       "\n",
       "/* Label box, darken color on hover, fitted */\n",
       "#sk-container-id-3 div.sk-label.fitted:hover label.sk-toggleable__label.fitted {\n",
       "  color: var(--sklearn-color-text);\n",
       "  background-color: var(--sklearn-color-fitted-level-2);\n",
       "}\n",
       "\n",
       "/* Estimator label */\n",
       "\n",
       "#sk-container-id-3 div.sk-label label {\n",
       "  font-family: monospace;\n",
       "  font-weight: bold;\n",
       "  display: inline-block;\n",
       "  line-height: 1.2em;\n",
       "}\n",
       "\n",
       "#sk-container-id-3 div.sk-label-container {\n",
       "  text-align: center;\n",
       "}\n",
       "\n",
       "/* Estimator-specific */\n",
       "#sk-container-id-3 div.sk-estimator {\n",
       "  font-family: monospace;\n",
       "  border: 1px dotted var(--sklearn-color-border-box);\n",
       "  border-radius: 0.25em;\n",
       "  box-sizing: border-box;\n",
       "  margin-bottom: 0.5em;\n",
       "  /* unfitted */\n",
       "  background-color: var(--sklearn-color-unfitted-level-0);\n",
       "}\n",
       "\n",
       "#sk-container-id-3 div.sk-estimator.fitted {\n",
       "  /* fitted */\n",
       "  background-color: var(--sklearn-color-fitted-level-0);\n",
       "}\n",
       "\n",
       "/* on hover */\n",
       "#sk-container-id-3 div.sk-estimator:hover {\n",
       "  /* unfitted */\n",
       "  background-color: var(--sklearn-color-unfitted-level-2);\n",
       "}\n",
       "\n",
       "#sk-container-id-3 div.sk-estimator.fitted:hover {\n",
       "  /* fitted */\n",
       "  background-color: var(--sklearn-color-fitted-level-2);\n",
       "}\n",
       "\n",
       "/* Specification for estimator info (e.g. \"i\" and \"?\") */\n",
       "\n",
       "/* Common style for \"i\" and \"?\" */\n",
       "\n",
       ".sk-estimator-doc-link,\n",
       "a:link.sk-estimator-doc-link,\n",
       "a:visited.sk-estimator-doc-link {\n",
       "  float: right;\n",
       "  font-size: smaller;\n",
       "  line-height: 1em;\n",
       "  font-family: monospace;\n",
       "  background-color: var(--sklearn-color-background);\n",
       "  border-radius: 1em;\n",
       "  height: 1em;\n",
       "  width: 1em;\n",
       "  text-decoration: none !important;\n",
       "  margin-left: 0.5em;\n",
       "  text-align: center;\n",
       "  /* unfitted */\n",
       "  border: var(--sklearn-color-unfitted-level-1) 1pt solid;\n",
       "  color: var(--sklearn-color-unfitted-level-1);\n",
       "}\n",
       "\n",
       ".sk-estimator-doc-link.fitted,\n",
       "a:link.sk-estimator-doc-link.fitted,\n",
       "a:visited.sk-estimator-doc-link.fitted {\n",
       "  /* fitted */\n",
       "  border: var(--sklearn-color-fitted-level-1) 1pt solid;\n",
       "  color: var(--sklearn-color-fitted-level-1);\n",
       "}\n",
       "\n",
       "/* On hover */\n",
       "div.sk-estimator:hover .sk-estimator-doc-link:hover,\n",
       ".sk-estimator-doc-link:hover,\n",
       "div.sk-label-container:hover .sk-estimator-doc-link:hover,\n",
       ".sk-estimator-doc-link:hover {\n",
       "  /* unfitted */\n",
       "  background-color: var(--sklearn-color-unfitted-level-3);\n",
       "  color: var(--sklearn-color-background);\n",
       "  text-decoration: none;\n",
       "}\n",
       "\n",
       "div.sk-estimator.fitted:hover .sk-estimator-doc-link.fitted:hover,\n",
       ".sk-estimator-doc-link.fitted:hover,\n",
       "div.sk-label-container:hover .sk-estimator-doc-link.fitted:hover,\n",
       ".sk-estimator-doc-link.fitted:hover {\n",
       "  /* fitted */\n",
       "  background-color: var(--sklearn-color-fitted-level-3);\n",
       "  color: var(--sklearn-color-background);\n",
       "  text-decoration: none;\n",
       "}\n",
       "\n",
       "/* Span, style for the box shown on hovering the info icon */\n",
       ".sk-estimator-doc-link span {\n",
       "  display: none;\n",
       "  z-index: 9999;\n",
       "  position: relative;\n",
       "  font-weight: normal;\n",
       "  right: .2ex;\n",
       "  padding: .5ex;\n",
       "  margin: .5ex;\n",
       "  width: min-content;\n",
       "  min-width: 20ex;\n",
       "  max-width: 50ex;\n",
       "  color: var(--sklearn-color-text);\n",
       "  box-shadow: 2pt 2pt 4pt #999;\n",
       "  /* unfitted */\n",
       "  background: var(--sklearn-color-unfitted-level-0);\n",
       "  border: .5pt solid var(--sklearn-color-unfitted-level-3);\n",
       "}\n",
       "\n",
       ".sk-estimator-doc-link.fitted span {\n",
       "  /* fitted */\n",
       "  background: var(--sklearn-color-fitted-level-0);\n",
       "  border: var(--sklearn-color-fitted-level-3);\n",
       "}\n",
       "\n",
       ".sk-estimator-doc-link:hover span {\n",
       "  display: block;\n",
       "}\n",
       "\n",
       "/* \"?\"-specific style due to the `<a>` HTML tag */\n",
       "\n",
       "#sk-container-id-3 a.estimator_doc_link {\n",
       "  float: right;\n",
       "  font-size: 1rem;\n",
       "  line-height: 1em;\n",
       "  font-family: monospace;\n",
       "  background-color: var(--sklearn-color-background);\n",
       "  border-radius: 1rem;\n",
       "  height: 1rem;\n",
       "  width: 1rem;\n",
       "  text-decoration: none;\n",
       "  /* unfitted */\n",
       "  color: var(--sklearn-color-unfitted-level-1);\n",
       "  border: var(--sklearn-color-unfitted-level-1) 1pt solid;\n",
       "}\n",
       "\n",
       "#sk-container-id-3 a.estimator_doc_link.fitted {\n",
       "  /* fitted */\n",
       "  border: var(--sklearn-color-fitted-level-1) 1pt solid;\n",
       "  color: var(--sklearn-color-fitted-level-1);\n",
       "}\n",
       "\n",
       "/* On hover */\n",
       "#sk-container-id-3 a.estimator_doc_link:hover {\n",
       "  /* unfitted */\n",
       "  background-color: var(--sklearn-color-unfitted-level-3);\n",
       "  color: var(--sklearn-color-background);\n",
       "  text-decoration: none;\n",
       "}\n",
       "\n",
       "#sk-container-id-3 a.estimator_doc_link.fitted:hover {\n",
       "  /* fitted */\n",
       "  background-color: var(--sklearn-color-fitted-level-3);\n",
       "}\n",
       "\n",
       ".estimator-table summary {\n",
       "    padding: .5rem;\n",
       "    font-family: monospace;\n",
       "    cursor: pointer;\n",
       "}\n",
       "\n",
       ".estimator-table details[open] {\n",
       "    padding-left: 0.1rem;\n",
       "    padding-right: 0.1rem;\n",
       "    padding-bottom: 0.3rem;\n",
       "}\n",
       "\n",
       ".estimator-table .parameters-table {\n",
       "    margin-left: auto !important;\n",
       "    margin-right: auto !important;\n",
       "}\n",
       "\n",
       ".estimator-table .parameters-table tr:nth-child(odd) {\n",
       "    background-color: #fff;\n",
       "}\n",
       "\n",
       ".estimator-table .parameters-table tr:nth-child(even) {\n",
       "    background-color: #f6f6f6;\n",
       "}\n",
       "\n",
       ".estimator-table .parameters-table tr:hover {\n",
       "    background-color: #e0e0e0;\n",
       "}\n",
       "\n",
       ".estimator-table table td {\n",
       "    border: 1px solid rgba(106, 105, 104, 0.232);\n",
       "}\n",
       "\n",
       ".user-set td {\n",
       "    color:rgb(255, 94, 0);\n",
       "    text-align: left;\n",
       "}\n",
       "\n",
       ".user-set td.value pre {\n",
       "    color:rgb(255, 94, 0) !important;\n",
       "    background-color: transparent !important;\n",
       "}\n",
       "\n",
       ".default td {\n",
       "    color: black;\n",
       "    text-align: left;\n",
       "}\n",
       "\n",
       ".user-set td i,\n",
       ".default td i {\n",
       "    color: black;\n",
       "}\n",
       "\n",
       ".copy-paste-icon {\n",
       "    background-image: url(data:image/svg+xml;base64,PHN2ZyB4bWxucz0iaHR0cDovL3d3dy53My5vcmcvMjAwMC9zdmciIHZpZXdCb3g9IjAgMCA0NDggNTEyIj48IS0tIUZvbnQgQXdlc29tZSBGcmVlIDYuNy4yIGJ5IEBmb250YXdlc29tZSAtIGh0dHBzOi8vZm9udGF3ZXNvbWUuY29tIExpY2Vuc2UgLSBodHRwczovL2ZvbnRhd2Vzb21lLmNvbS9saWNlbnNlL2ZyZWUgQ29weXJpZ2h0IDIwMjUgRm9udGljb25zLCBJbmMuLS0+PHBhdGggZD0iTTIwOCAwTDMzMi4xIDBjMTIuNyAwIDI0LjkgNS4xIDMzLjkgMTQuMWw2Ny45IDY3LjljOSA5IDE0LjEgMjEuMiAxNC4xIDMzLjlMNDQ4IDMzNmMwIDI2LjUtMjEuNSA0OC00OCA0OGwtMTkyIDBjLTI2LjUgMC00OC0yMS41LTQ4LTQ4bDAtMjg4YzAtMjYuNSAyMS41LTQ4IDQ4LTQ4ek00OCAxMjhsODAgMCAwIDY0LTY0IDAgMCAyNTYgMTkyIDAgMC0zMiA2NCAwIDAgNDhjMCAyNi41LTIxLjUgNDgtNDggNDhMNDggNTEyYy0yNi41IDAtNDgtMjEuNS00OC00OEwwIDE3NmMwLTI2LjUgMjEuNS00OCA0OC00OHoiLz48L3N2Zz4=);\n",
       "    background-repeat: no-repeat;\n",
       "    background-size: 14px 14px;\n",
       "    background-position: 0;\n",
       "    display: inline-block;\n",
       "    width: 14px;\n",
       "    height: 14px;\n",
       "    cursor: pointer;\n",
       "}\n",
       "</style><body><div id=\"sk-container-id-3\" class=\"sk-top-container\"><div class=\"sk-text-repr-fallback\"><pre>LogisticRegression(max_iter=1000)</pre><b>In a Jupyter environment, please rerun this cell to show the HTML representation or trust the notebook. <br />On GitHub, the HTML representation is unable to render, please try loading this page with nbviewer.org.</b></div><div class=\"sk-container\" hidden><div class=\"sk-item\"><div class=\"sk-estimator fitted sk-toggleable\"><input class=\"sk-toggleable__control sk-hidden--visually\" id=\"sk-estimator-id-3\" type=\"checkbox\" checked><label for=\"sk-estimator-id-3\" class=\"sk-toggleable__label fitted sk-toggleable__label-arrow\"><div><div>LogisticRegression</div></div><div><a class=\"sk-estimator-doc-link fitted\" rel=\"noreferrer\" target=\"_blank\" href=\"https://scikit-learn.org/1.7/modules/generated/sklearn.linear_model.LogisticRegression.html\">?<span>Documentation for LogisticRegression</span></a><span class=\"sk-estimator-doc-link fitted\">i<span>Fitted</span></span></div></label><div class=\"sk-toggleable__content fitted\" data-param-prefix=\"\">\n",
       "        <div class=\"estimator-table\">\n",
       "            <details>\n",
       "                <summary>Parameters</summary>\n",
       "                <table class=\"parameters-table\">\n",
       "                  <tbody>\n",
       "                    \n",
       "        <tr class=\"default\">\n",
       "            <td><i class=\"copy-paste-icon\"\n",
       "                 onclick=\"copyToClipboard('penalty',\n",
       "                          this.parentElement.nextElementSibling)\"\n",
       "            ></i></td>\n",
       "            <td class=\"param\">penalty&nbsp;</td>\n",
       "            <td class=\"value\">&#x27;l2&#x27;</td>\n",
       "        </tr>\n",
       "    \n",
       "\n",
       "        <tr class=\"default\">\n",
       "            <td><i class=\"copy-paste-icon\"\n",
       "                 onclick=\"copyToClipboard('dual',\n",
       "                          this.parentElement.nextElementSibling)\"\n",
       "            ></i></td>\n",
       "            <td class=\"param\">dual&nbsp;</td>\n",
       "            <td class=\"value\">False</td>\n",
       "        </tr>\n",
       "    \n",
       "\n",
       "        <tr class=\"default\">\n",
       "            <td><i class=\"copy-paste-icon\"\n",
       "                 onclick=\"copyToClipboard('tol',\n",
       "                          this.parentElement.nextElementSibling)\"\n",
       "            ></i></td>\n",
       "            <td class=\"param\">tol&nbsp;</td>\n",
       "            <td class=\"value\">0.0001</td>\n",
       "        </tr>\n",
       "    \n",
       "\n",
       "        <tr class=\"default\">\n",
       "            <td><i class=\"copy-paste-icon\"\n",
       "                 onclick=\"copyToClipboard('C',\n",
       "                          this.parentElement.nextElementSibling)\"\n",
       "            ></i></td>\n",
       "            <td class=\"param\">C&nbsp;</td>\n",
       "            <td class=\"value\">1.0</td>\n",
       "        </tr>\n",
       "    \n",
       "\n",
       "        <tr class=\"default\">\n",
       "            <td><i class=\"copy-paste-icon\"\n",
       "                 onclick=\"copyToClipboard('fit_intercept',\n",
       "                          this.parentElement.nextElementSibling)\"\n",
       "            ></i></td>\n",
       "            <td class=\"param\">fit_intercept&nbsp;</td>\n",
       "            <td class=\"value\">True</td>\n",
       "        </tr>\n",
       "    \n",
       "\n",
       "        <tr class=\"default\">\n",
       "            <td><i class=\"copy-paste-icon\"\n",
       "                 onclick=\"copyToClipboard('intercept_scaling',\n",
       "                          this.parentElement.nextElementSibling)\"\n",
       "            ></i></td>\n",
       "            <td class=\"param\">intercept_scaling&nbsp;</td>\n",
       "            <td class=\"value\">1</td>\n",
       "        </tr>\n",
       "    \n",
       "\n",
       "        <tr class=\"default\">\n",
       "            <td><i class=\"copy-paste-icon\"\n",
       "                 onclick=\"copyToClipboard('class_weight',\n",
       "                          this.parentElement.nextElementSibling)\"\n",
       "            ></i></td>\n",
       "            <td class=\"param\">class_weight&nbsp;</td>\n",
       "            <td class=\"value\">None</td>\n",
       "        </tr>\n",
       "    \n",
       "\n",
       "        <tr class=\"default\">\n",
       "            <td><i class=\"copy-paste-icon\"\n",
       "                 onclick=\"copyToClipboard('random_state',\n",
       "                          this.parentElement.nextElementSibling)\"\n",
       "            ></i></td>\n",
       "            <td class=\"param\">random_state&nbsp;</td>\n",
       "            <td class=\"value\">None</td>\n",
       "        </tr>\n",
       "    \n",
       "\n",
       "        <tr class=\"default\">\n",
       "            <td><i class=\"copy-paste-icon\"\n",
       "                 onclick=\"copyToClipboard('solver',\n",
       "                          this.parentElement.nextElementSibling)\"\n",
       "            ></i></td>\n",
       "            <td class=\"param\">solver&nbsp;</td>\n",
       "            <td class=\"value\">&#x27;lbfgs&#x27;</td>\n",
       "        </tr>\n",
       "    \n",
       "\n",
       "        <tr class=\"user-set\">\n",
       "            <td><i class=\"copy-paste-icon\"\n",
       "                 onclick=\"copyToClipboard('max_iter',\n",
       "                          this.parentElement.nextElementSibling)\"\n",
       "            ></i></td>\n",
       "            <td class=\"param\">max_iter&nbsp;</td>\n",
       "            <td class=\"value\">1000</td>\n",
       "        </tr>\n",
       "    \n",
       "\n",
       "        <tr class=\"default\">\n",
       "            <td><i class=\"copy-paste-icon\"\n",
       "                 onclick=\"copyToClipboard('multi_class',\n",
       "                          this.parentElement.nextElementSibling)\"\n",
       "            ></i></td>\n",
       "            <td class=\"param\">multi_class&nbsp;</td>\n",
       "            <td class=\"value\">&#x27;deprecated&#x27;</td>\n",
       "        </tr>\n",
       "    \n",
       "\n",
       "        <tr class=\"default\">\n",
       "            <td><i class=\"copy-paste-icon\"\n",
       "                 onclick=\"copyToClipboard('verbose',\n",
       "                          this.parentElement.nextElementSibling)\"\n",
       "            ></i></td>\n",
       "            <td class=\"param\">verbose&nbsp;</td>\n",
       "            <td class=\"value\">0</td>\n",
       "        </tr>\n",
       "    \n",
       "\n",
       "        <tr class=\"default\">\n",
       "            <td><i class=\"copy-paste-icon\"\n",
       "                 onclick=\"copyToClipboard('warm_start',\n",
       "                          this.parentElement.nextElementSibling)\"\n",
       "            ></i></td>\n",
       "            <td class=\"param\">warm_start&nbsp;</td>\n",
       "            <td class=\"value\">False</td>\n",
       "        </tr>\n",
       "    \n",
       "\n",
       "        <tr class=\"default\">\n",
       "            <td><i class=\"copy-paste-icon\"\n",
       "                 onclick=\"copyToClipboard('n_jobs',\n",
       "                          this.parentElement.nextElementSibling)\"\n",
       "            ></i></td>\n",
       "            <td class=\"param\">n_jobs&nbsp;</td>\n",
       "            <td class=\"value\">None</td>\n",
       "        </tr>\n",
       "    \n",
       "\n",
       "        <tr class=\"default\">\n",
       "            <td><i class=\"copy-paste-icon\"\n",
       "                 onclick=\"copyToClipboard('l1_ratio',\n",
       "                          this.parentElement.nextElementSibling)\"\n",
       "            ></i></td>\n",
       "            <td class=\"param\">l1_ratio&nbsp;</td>\n",
       "            <td class=\"value\">None</td>\n",
       "        </tr>\n",
       "    \n",
       "                  </tbody>\n",
       "                </table>\n",
       "            </details>\n",
       "        </div>\n",
       "    </div></div></div></div></div><script>function copyToClipboard(text, element) {\n",
       "    // Get the parameter prefix from the closest toggleable content\n",
       "    const toggleableContent = element.closest('.sk-toggleable__content');\n",
       "    const paramPrefix = toggleableContent ? toggleableContent.dataset.paramPrefix : '';\n",
       "    const fullParamName = paramPrefix ? `${paramPrefix}${text}` : text;\n",
       "\n",
       "    const originalStyle = element.style;\n",
       "    const computedStyle = window.getComputedStyle(element);\n",
       "    const originalWidth = computedStyle.width;\n",
       "    const originalHTML = element.innerHTML.replace('Copied!', '');\n",
       "\n",
       "    navigator.clipboard.writeText(fullParamName)\n",
       "        .then(() => {\n",
       "            element.style.width = originalWidth;\n",
       "            element.style.color = 'green';\n",
       "            element.innerHTML = \"Copied!\";\n",
       "\n",
       "            setTimeout(() => {\n",
       "                element.innerHTML = originalHTML;\n",
       "                element.style = originalStyle;\n",
       "            }, 2000);\n",
       "        })\n",
       "        .catch(err => {\n",
       "            console.error('Failed to copy:', err);\n",
       "            element.style.color = 'red';\n",
       "            element.innerHTML = \"Failed!\";\n",
       "            setTimeout(() => {\n",
       "                element.innerHTML = originalHTML;\n",
       "                element.style = originalStyle;\n",
       "            }, 2000);\n",
       "        });\n",
       "    return false;\n",
       "}\n",
       "\n",
       "document.querySelectorAll('.fa-regular.fa-copy').forEach(function(element) {\n",
       "    const toggleableContent = element.closest('.sk-toggleable__content');\n",
       "    const paramPrefix = toggleableContent ? toggleableContent.dataset.paramPrefix : '';\n",
       "    const paramName = element.parentElement.nextElementSibling.textContent.trim();\n",
       "    const fullParamName = paramPrefix ? `${paramPrefix}${paramName}` : paramName;\n",
       "\n",
       "    element.setAttribute('title', fullParamName);\n",
       "});\n",
       "</script></body>"
      ],
      "text/plain": [
       "LogisticRegression(max_iter=1000)"
      ]
     },
     "execution_count": 483,
     "metadata": {},
     "output_type": "execute_result"
    }
   ],
   "source": [
    "# Separate train and test\n",
    "train_df, test_df= train_test_split(df_clean, test_size=0.2, random_state=42)\n",
    "X_train=train_df.drop('Churn', axis=1)\n",
    "y_train=train_df['Churn']\n",
    "X_test=test_df.drop('Churn', axis=1)\n",
    "y_test= test_df['Churn']\n",
    "\n",
    "# Logistic Regression Model\n",
    "log_reg=LogisticRegression(max_iter=1000)\n",
    "log_reg.fit(X_train, y_train)"
   ]
  },
  {
   "cell_type": "code",
   "execution_count": 485,
   "id": "434bc517-5021-410e-84a4-4ad84962307a",
   "metadata": {},
   "outputs": [],
   "source": [
    "# Predictions\n",
    "y_pred= log_reg.predict(X_test) #gives the exact number i.e. 0 or 1\n",
    "y_pred_proba= log_reg.predict_proba(X_test)[:,1] #gives the probability of churning"
   ]
  },
  {
   "cell_type": "code",
   "execution_count": 487,
   "id": "302b1c6d-fe29-42a9-b763-8ca8e907c4b3",
   "metadata": {},
   "outputs": [
    {
     "name": "stdout",
     "output_type": "stream",
     "text": [
      "[1 0 0 ... 0 0 0]\n"
     ]
    }
   ],
   "source": [
    "print(y_pred)"
   ]
  },
  {
   "cell_type": "code",
   "execution_count": 489,
   "id": "8c4cddb7-2996-4c66-b8c7-f4bcc2a15805",
   "metadata": {},
   "outputs": [
    {
     "name": "stdout",
     "output_type": "stream",
     "text": [
      "[0.69377428 0.06034131 0.00456724 ... 0.0515115  0.01323053 0.4964688 ]\n"
     ]
    }
   ],
   "source": [
    "print(y_pred_proba)"
   ]
  },
  {
   "cell_type": "markdown",
   "id": "83c9e75b-7339-4659-9d98-c89b3f2fefb7",
   "metadata": {},
   "source": [
    "## Step 2 — Metrics\n",
    "\n",
    "Accuracy can be misleading due to imbalance data set (73% \"No Churn\"), so check other metrics too."
   ]
  },
  {
   "cell_type": "code",
   "execution_count": 492,
   "id": "ceb084ab-41ba-4fd3-999b-f0186af66b97",
   "metadata": {},
   "outputs": [
    {
     "name": "stdout",
     "output_type": "stream",
     "text": [
      "Accuracy:  0.8211497515968772\n",
      "Precision:  0.6861538461538461\n",
      "Recall:  0.5978552278820375\n",
      "F1 Score:  0.6389684813753582\n",
      "ROC-AUC:  0.7496998147132194\n",
      "Confusion Matrix:\n",
      " [[934 102]\n",
      " [150 223]]\n",
      "ROC Curve:\n",
      ": <sklearn.metrics._plot.roc_curve.RocCurveDisplay object at 0x00000223EEF92060>\n"
     ]
    },
    {
     "data": {
      "image/png": "[encoded data removed]",
      "text/plain": [
       "<Figure size 640x480 with 1 Axes>"
      ]
     },
     "metadata": {},
     "output_type": "display_data"
    }
   ],
   "source": [
    "# Basic Metrics\n",
    "print(\"Accuracy: \",accuracy_score(y_test, y_pred))\n",
    "print(\"Precision: \", precision_score(y_test, y_pred))\n",
    "print(\"Recall: \", recall_score(y_test, y_pred))\n",
    "print(\"F1 Score: \", f1_score(y_test, y_pred))\n",
    "print(\"ROC-AUC: \", roc_auc_score(y_test, y_pred))\n",
    "print(\"Confusion Matrix:\\n\", confusion_matrix(y_test, y_pred))\n",
    "print(\"ROC Curve:\\n:\", RocCurveDisplay.from_estimator(log_reg, X_test, y_test))"
   ]
  },
  {
   "cell_type": "markdown",
   "id": "1b15886e-db3e-479c-a3ca-ca7aee377130",
   "metadata": {},
   "source": [
    "### 1\\. Model Metrics 📊\n",
    "\n",
    "  * **Accuracy:** `0.821`\n",
    "      * **Meaning:** model made correct predictions **82.1%** of the time. This means that out of every 100 predictions, roughly 82 were correct.\n",
    "  * **Precision:** `0.686`\n",
    "      * **Meaning:** When the model predicted a customer would churn (`Churn=1`), it was correct **68.6%** of the time. For every 100 customers predicted to churn, about 68 to 69 actually did.\n",
    "  * **Recall:** `0.597`\n",
    "      * **Meaning:** Out of all the customers who actually churned, the model correctly identified **59.7%** of them. If 100 customers were going to churn, the model only managed to find about 60 of them.\n",
    "  * **F1 Score:** `0.638`\n",
    "      * **Meaning:** This is the average of Precision and Recall. An F1 score of `0.638` indicates that the model has a good balance between these two metrics.\n",
    "  * **ROC-AUC:** `0.749`\n",
    "      * **Meaning:** An ROC-AUC score of `0.749` is very good. It means your model is quite effective at distinguishing between customers who will churn and those who will not. A score closer to 1.0 is better.\n",
    "\n",
    "-----\n",
    "\n",
    "### 2\\. Confusion Matrix 📉\n",
    "\n",
    "This is a table that shows the types of correct and incorrect predictions made by the model.\n",
    "\n",
    "```\n",
    "[[934 102]\n",
    " [150 223]]\n",
    "```\n",
    "\n",
    "  * **934:** **Correct \"No\" predictions (True Negatives).** The model correctly predicted that 934 customers would not churn, and they did not.\n",
    "  * **102:** **Incorrect \"Yes\" predictions (False Positives).** The model mistakenly predicted that 102 customers would churn, but they actually stayed.\n",
    "  * **150:** **Incorrect \"No\" predictions (False Negatives).** The model mistakenly predicted that 150 customers would not churn, but they actually left.\n",
    "  * **223:** **Correct \"Yes\" predictions (True Positives).** The model correctly predicted that 223 customers would churn, and they did leave.\n",
    "\n",
    "-----\n",
    "\n",
    "### 3\\. ROC Curve 📈\n",
    "\n",
    "This graph visually represents model's performance.\n",
    "\n",
    "  * **X-axis (False Positive Rate):** Shows the proportion of incorrect \"Yes\" predictions.\n",
    "  * **Y-axis (True Positive Rate):** Shows the proportion of correct \"Yes\" predictions.\n",
    "  * **Meaning of the Curve:** The blue line, starting from the bottom-left and moving upwards, shows how the model's performance changes at different prediction thresholds. A curve that hugs the top-left corner indicates better performance.\n",
    "  * **AUC = 0.86:** The area under the curve is labeled as `0.86`. This is the ROC-AUC score for the graph, which is slightly different from the `0.749` you saw earlier due to different calculation methods. However, the meaning remains the same: a score of `0.86` is excellent and indicates that the model has a very good ability to distinguish between the two classes."
   ]
  },
  {
   "attachments": {
    "accd9e9b-4958-4bf9-85bd-e723a65d4644.png": {
     "image/png": "[encoded data removed]"
    }
   },
   "cell_type": "markdown",
   "id": "f03b9961-936a-43ca-bbef-68df9f0acb97",
   "metadata": {},
   "source": [
    "## Step 3 — Probability Thinking\n",
    "---\n",
    "\n",
    "![image.png](attachment:accd9e9b-4958-4bf9-85bd-e723a65d4644.png)\n",
    "\n",
    "---\n",
    "### What is this Formula? 📝\n",
    "\n",
    "This formula is like a **magic machine**. Its job is to tell us the chance of something happening. In this case, this machine tells us the chance of a customer `Churning` (leaving).\n",
    "\n",
    "* **P(Churn=1 | Features)**: This means \"The **Chance** (`P`) **that a customer will leave** (`Churn=1`) **if they have these specific qualities** (`Features`)\".\n",
    "* This machine's answer is always between `0` and `1`.\n",
    "    * `0` means **no chance at all**.\n",
    "    * `1` means a **full chance**.\n",
    "    * `0.7` means a **70% chance**.\n",
    "\n",
    "---\n",
    "\n",
    "### The Machine's Parts\n",
    "\n",
    "This machine has two main parts inside:\n",
    "\n",
    "1.  **The Inside Calculation:** `$\\beta_0 + \\beta_1x_1 + \\dots$`\n",
    "    * This part looks at **each customer's qualities** (`$x_1, x_2, \\dots$`).\n",
    "    * `$\\beta_0$`: This is the first number, which says, \"even if there are no qualities, there's this much of a starting chance.\"\n",
    "    * `$\\beta_1, \\beta_2, \\dots$`: These are other numbers that say, \"if a customer has this quality, their chance will go up or down by this much.\"\n",
    "    * All these numbers together make a big number called **log-odds**.\n",
    "\n",
    "2.  **The Outside Part of the Machine:** `$\\frac{1}{1 + e^{-(\\dots)}}$`\n",
    "    * This part takes the big number (log-odds) from the inside.\n",
    "    * It then turns that big number into a simple chance (or probability) that is always between `0` and `1`.\n",
    "\n",
    "---\n",
    "\n",
    "### How We Make a Prediction\n",
    "\n",
    "Now, once the machine gives us the chance, we make a decision like this:\n",
    "\n",
    "* **If the chance is more than `0.5`** (like `0.51`, `0.60`, `0.80`), we say: **\"Yes, this customer will leave!\"**.\n",
    "* **If the chance is `0.5` or less** (like `0.50`, `0.49`, `0.20`), we say: **\"No, this customer will stay\"**.\n",
    "\n",
    "---\n",
    "\n",
    "### An Important Interview Point 💡\n",
    "\n",
    "Logistic Regression isn't a `Linear` (straight line) model. It bends the straight line so that it stays between `0` and `1`.\n",
    "\n",
    "This is why if one customer has a chance of `0.49`, we say \"No Churn,\" but if another has a chance of `0.51`, we say \"Churn.\" A tiny difference of `0.02` completely changes our decision. This is what's meant by the **jump around the threshold**."
   ]
  },
  {
   "cell_type": "markdown",
   "id": "8260b16e-06c2-45ba-89a9-01dc4a1de75b",
   "metadata": {},
   "source": [
    "## Step 4 — Interpret Feature Importance\n",
    "\n",
    "- **Positive coef** → increases churn probability\n",
    "- **Negative coef** → decreases churn probability"
   ]
  },
  {
   "cell_type": "code",
   "execution_count": 497,
   "id": "ff54bf2e-da30-4ac6-9706-e36fb7dda62f",
   "metadata": {},
   "outputs": [
    {
     "name": "stdout",
     "output_type": "stream",
     "text": [
      "                                  Feature  Coefficient\n",
      "11            InternetService_Fiber optic     0.996214\n",
      "8                            TotalCharges     0.653440\n",
      "24                    StreamingMovies_Yes     0.368102\n",
      "6                        PaperlessBilling     0.332748\n",
      "28         PaymentMethod_Electronic check     0.324171\n",
      "10                      MultipleLines_Yes     0.290502\n",
      "22                        StreamingTV_Yes     0.268959\n",
      "1                           SeniorCitizen     0.160578\n",
      "2                                 Partner     0.053953\n",
      "18                   DeviceProtection_Yes     0.007401\n",
      "29             PaymentMethod_Mailed check    -0.029588\n",
      "0                                  gender    -0.051626\n",
      "9          MultipleLines_No phone service    -0.082224\n",
      "27  PaymentMethod_Credit card (automatic)    -0.085208\n",
      "16                       OnlineBackup_Yes    -0.143195\n",
      "23    StreamingMovies_No internet service    -0.149736\n",
      "15       OnlineBackup_No internet service    -0.149736\n",
      "21        StreamingTV_No internet service    -0.149736\n",
      "12                     InternetService_No    -0.149736\n",
      "13     OnlineSecurity_No internet service    -0.149736\n",
      "19        TechSupport_No internet service    -0.149736\n",
      "17   DeviceProtection_No internet service    -0.149736\n",
      "3                              Dependents    -0.159248\n",
      "20                        TechSupport_Yes    -0.321316\n",
      "7                          MonthlyCharges    -0.330998\n",
      "14                     OnlineSecurity_Yes    -0.402304\n",
      "5                            PhoneService    -0.514002\n",
      "25                      Contract_One year    -0.637260\n",
      "4                                  tenure    -1.362531\n",
      "26                      Contract_Two year    -1.397018\n"
     ]
    }
   ],
   "source": [
    "feature_importance= pd.DataFrame({\n",
    "    'Feature': X_train.columns,\n",
    "    'Coefficient': log_reg.coef_[0]}).sort_values(by='Coefficient', ascending=False)\n",
    "\n",
    "print(feature_importance)"
   ]
  },
  {
   "cell_type": "markdown",
   "id": "181b3c60-881e-483a-a426-5385aefe4898",
   "metadata": {},
   "source": [
    "### Insights:\n",
    "\n",
    "### 1. Factors That Increase Churn (Positive Coefficients)\n",
    "* **Fiber optic internet (0.996):** This is the strongest predictor of a customer leaving.\n",
    "* **High total charges (0.653):** Customers with higher overall bills are more likely to churn.\n",
    "* **Paperless billing and electronic checks (≈ 0.33):** These are also associated with a slightly higher churn rate.\n",
    "\n",
    "---\n",
    "\n",
    "### 2. Factors That Decrease Churn (Negative Coefficients)\n",
    "* **Two-year contracts (-1.397) and long tenure (-1.362):** These are the most powerful factors in retaining a customer.\n",
    "* **One-year contracts (-0.637):** This also significantly reduces churn.\n",
    "* **Online security and tech support (-0.402 and -0.321):** Customers who subscribe to these value-added services are less likely to leave."
   ]
  },
  {
   "cell_type": "markdown",
   "id": "88f96ddf-e5ae-4965-9650-e8377b1b4821",
   "metadata": {},
   "source": [
    "---\n",
    "### How Logistic Regression Makes a Prediction\n",
    "\n",
    "A **Logistic Regression** model uses a **sigmoid function** to convert a customer's features (like tenure and contract type) into a **churn probability** between 0 and 1.\n",
    "\n",
    "A **threshold**, typically set at 50%, is then used to turn this probability into a final \"Yes\" or \"No\" prediction.\n",
    "\n",
    "* If the probability is `≥ 50%`, the model predicts the customer will churn.\n",
    "* If the probability is `< 50%`, it predicts they won't.\n",
    "\n",
    "### The Business Impact of Changing the Threshold\n",
    "\n",
    "You can adjust this threshold to meet specific business goals:\n",
    "\n",
    "* **Lowering the threshold** (e.g., to 35%) **increases recall**, which means you catch more potential churners. The trade-off is lower **precision**, meaning you'll also get more false alarms. This is ideal if the goal is to save as many customers as possible.\n",
    "* **Raising the threshold** (e.g., to 70%) **increases precision**, so you only target the most certain churn cases. The trade-off is lower **recall**, as you'll miss many at-risk customers. This is best for avoiding wasted resources."
   ]
  },
  {
   "cell_type": "markdown",
   "id": "76aee2fd-6dfd-4ce8-b9f4-b956d784b283",
   "metadata": {},
   "source": [
    "# Phase 5-Threshold Tuning + ROC / Precision-Recall Analysis\n",
    "\n",
    "Here, we will see:\n",
    "\n",
    "- How recall increases if we change the threshold from 0.5 to 0.35.\n",
    "- How to find the sweet spot using the ROC Curve and the Precision-Recall Curve.\n",
    "- How to pick the best threshold according to the business goal."
   ]
  },
  {
   "cell_type": "markdown",
   "id": "eca677f5-b32d-4799-8a91-e2f54ea14334",
   "metadata": {},
   "source": [
    "## Step 1 — Predicted Probabilities"
   ]
  },
  {
   "cell_type": "code",
   "execution_count": 503,
   "id": "4bdc0421-7bdc-4969-9663-8cede79818ea",
   "metadata": {},
   "outputs": [],
   "source": [
    "# Predicted Probablities\n",
    "y_train_probs=log_reg.predict_proba(X_train)[:,1] # Probability of churn=1\n",
    "y_test_probs=log_reg.predict_proba(X_test)[:,1]"
   ]
  },
  {
   "cell_type": "markdown",
   "id": "6c6b9188-636a-440e-851b-81741b9eb747",
   "metadata": {},
   "source": [
    "## Step 2 — Threshold Comparison"
   ]
  },
  {
   "cell_type": "code",
   "execution_count": 506,
   "id": "aa2d2a54-5425-4d57-9694-7c7a7eb22a3f",
   "metadata": {},
   "outputs": [
    {
     "name": "stdout",
     "output_type": "stream",
     "text": [
      "\n",
      " Threshold: 0.5\n",
      "\n",
      "Confusion Matrix:\n",
      " [[934 102]\n",
      " [150 223]]\n",
      "\n",
      "Classification Report:\n",
      "               precision    recall  f1-score   support\n",
      "\n",
      "           0       0.86      0.90      0.88      1036\n",
      "           1       0.69      0.60      0.64       373\n",
      "\n",
      "    accuracy                           0.82      1409\n",
      "   macro avg       0.77      0.75      0.76      1409\n",
      "weighted avg       0.82      0.82      0.82      1409\n",
      "\n",
      "\n",
      " Threshold: 0.35\n",
      "\n",
      "Confusion Matrix:\n",
      " [[829 207]\n",
      " [ 98 275]]\n",
      "\n",
      "Classification Report:\n",
      "               precision    recall  f1-score   support\n",
      "\n",
      "           0       0.89      0.80      0.84      1036\n",
      "           1       0.57      0.74      0.64       373\n",
      "\n",
      "    accuracy                           0.78      1409\n",
      "   macro avg       0.73      0.77      0.74      1409\n",
      "weighted avg       0.81      0.78      0.79      1409\n",
      "\n"
     ]
    }
   ],
   "source": [
    "def evaluate_threshold(threshold):\n",
    "    preds=(y_test_probs>=threshold).astype(int)\n",
    "    print(f\"\\n Threshold: {threshold}\")\n",
    "    print(f\"\\nConfusion Matrix:\\n {confusion_matrix(y_test, preds)}\")\n",
    "    print(f\"\\nClassification Report:\\n {classification_report(y_test, preds)}\")\n",
    "\n",
    "# Compare 2 thresholds\n",
    "evaluate_threshold(0.5)\n",
    "evaluate_threshold(0.35)"
   ]
  },
  {
   "cell_type": "markdown",
   "id": "47f5d33b-08fa-4b3e-bccf-f3341702cf52",
   "metadata": {},
   "source": [
    "## Step 3 — ROC Curve\n",
    "ROC = plot of True Positive Rate vs False Positive Rate."
   ]
  },
  {
   "cell_type": "code",
   "execution_count": 509,
   "id": "209710da-a3d9-41ed-b196-1deec2472185",
   "metadata": {},
   "outputs": [
    {
     "data": {
      "image/png": "[encoded data removed]",
      "text/plain": [
       "<Figure size 600x600 with 1 Axes>"
      ]
     },
     "metadata": {},
     "output_type": "display_data"
    }
   ],
   "source": [
    "fpr, tpr, threshold=roc_curve(y_test, y_test_probs)\n",
    "roc_auc= auc(fpr, tpr)\n",
    "\n",
    "plt.figure(figsize=(6,6))\n",
    "plt.plot(fpr, tpr, label=f\"ROC Curve (AUC = {roc_auc:.3f})\")\n",
    "plt.plot([0,1],[0,1], 'k--')\n",
    "plt.xlabel(\"False Positive Rate\")\n",
    "plt.ylabel(\"True Positive Rate (Recall)\")\n",
    "plt.title(\"ROC Curve\")\n",
    "plt.legend()\n",
    "plt.show()"
   ]
  },
  {
   "cell_type": "markdown",
   "id": "104e9b4e-9531-4fee-8200-e06a6867e9fd",
   "metadata": {},
   "source": [
    "- The ROC Curve with an **AUC of 0.862** indicates the model is very good at distinguishing between churn and non-churn customers. However, a closer look at the metrics reveals a trade-off in performance.\n",
    "- The model has a high overall **accuracy of 82.1%** but a lower **recall of 59.7%**. This means while it's generally correct, it misses about 40% of the customers who will actually churn. The **confusion matrix** shows this weakness with **150 False Negatives**—customers who churned but were incorrectly predicted to stay."
   ]
  },
  {
   "cell_type": "markdown",
   "id": "e82a3e1f-ea5b-46d8-92e3-0f4d02a97b46",
   "metadata": {},
   "source": [
    "## Step 5 — Best Threshold Pick"
   ]
  },
  {
   "cell_type": "code",
   "execution_count": 513,
   "id": "030571f4-35e4-4c29-97e6-631fc85e5ded",
   "metadata": {},
   "outputs": [
    {
     "name": "stdout",
     "output_type": "stream",
     "text": [
      "Best Threshold by F1-Score = 0.316\n"
     ]
    }
   ],
   "source": [
    "# Precision-Recall curve values\n",
    "precisions, recalls, thresholds_pr = precision_recall_curve(y_test, y_test_probs)\n",
    "\n",
    "best_threshold=thresholds_pr[np.argmax(2*(precisions * recalls) / (precisions + recalls))]\n",
    "print(f\"Best Threshold by F1-Score = {best_threshold:.3f}\")"
   ]
  },
  {
   "cell_type": "markdown",
   "id": "521f0dc4-46b8-4fea-9103-a4b212dde471",
   "metadata": {},
   "source": [
    "The Best Threshold of 0.316 represents the optimal point where the model achieves the best balance between Precision and Recall. This is a strategic **\"sweet spot\"** that is less cautious than the default 0.5 threshold, allowing the model to catch more potential churners without generating an excessive number of false alarms."
   ]
  },
  {
   "cell_type": "markdown",
   "id": "6eb1ded9-0068-44f7-9489-c79c4e736703",
   "metadata": {},
   "source": [
    "### Business Meaning:\n",
    "This final step translates model output into a concrete business plan.\n",
    "\n",
    "- If the company wants to **maximize customer retention:** We choose a lower threshold (like 0.35) to prioritize high recall. The goal is to catch and save as many customers as possible, even if it means contacting some who might have stayed anyway.\n",
    "- If the company wants to **optimize marketing spend:** We choose a higher threshold to prioritize high precision. The goal is to only send costly retention offers to customers who are most certain to churn, avoiding wasted resources."
   ]
  },
  {
   "cell_type": "code",
   "execution_count": 517,
   "id": "1c66fd06-0eaf-4c3e-8340-0c932b3d99fb",
   "metadata": {},
   "outputs": [
    {
     "data": {
      "text/html": [
       "<div>\n",
       "<style scoped>\n",
       "    .dataframe tbody tr th:only-of-type {\n",
       "        vertical-align: middle;\n",
       "    }\n",
       "\n",
       "    .dataframe tbody tr th {\n",
       "        vertical-align: top;\n",
       "    }\n",
       "\n",
       "    .dataframe thead th {\n",
       "        text-align: right;\n",
       "    }\n",
       "</style>\n",
       "<table border=\"1\" class=\"dataframe\">\n",
       "  <thead>\n",
       "    <tr style=\"text-align: right;\">\n",
       "      <th></th>\n",
       "      <th>Threshold</th>\n",
       "      <th>Accuracy</th>\n",
       "      <th>Precision</th>\n",
       "      <th>Recall</th>\n",
       "      <th>F1 Score</th>\n",
       "      <th>True Negatives</th>\n",
       "      <th>False Positives</th>\n",
       "      <th>False Negatives</th>\n",
       "      <th>True Positives</th>\n",
       "    </tr>\n",
       "  </thead>\n",
       "  <tbody>\n",
       "    <tr>\n",
       "      <th>0</th>\n",
       "      <td>0.500</td>\n",
       "      <td>0.821</td>\n",
       "      <td>0.686</td>\n",
       "      <td>0.598</td>\n",
       "      <td>0.639</td>\n",
       "      <td>934</td>\n",
       "      <td>102</td>\n",
       "      <td>150</td>\n",
       "      <td>223</td>\n",
       "    </tr>\n",
       "    <tr>\n",
       "      <th>1</th>\n",
       "      <td>0.316</td>\n",
       "      <td>0.786</td>\n",
       "      <td>0.568</td>\n",
       "      <td>0.791</td>\n",
       "      <td>0.661</td>\n",
       "      <td>812</td>\n",
       "      <td>224</td>\n",
       "      <td>78</td>\n",
       "      <td>295</td>\n",
       "    </tr>\n",
       "  </tbody>\n",
       "</table>\n",
       "</div>"
      ],
      "text/plain": [
       "   Threshold  Accuracy  Precision  Recall  F1 Score  True Negatives  \\\n",
       "0      0.500     0.821      0.686   0.598     0.639             934   \n",
       "1      0.316     0.786      0.568   0.791     0.661             812   \n",
       "\n",
       "   False Positives  False Negatives  True Positives  \n",
       "0              102              150             223  \n",
       "1              224               78             295  "
      ]
     },
     "execution_count": 517,
     "metadata": {},
     "output_type": "execute_result"
    }
   ],
   "source": [
    "# Thresholds to compare\n",
    "thresholds = [0.5, 0.316]\n",
    "\n",
    "results = []\n",
    "\n",
    "for th in thresholds:\n",
    "    y_pred = (y_pred_proba >= th).astype(int)\n",
    "    \n",
    "    acc = accuracy_score(y_test, y_pred)\n",
    "    prec = precision_score(y_test, y_pred)\n",
    "    rec = recall_score(y_test, y_pred)\n",
    "    f1 = f1_score(y_test, y_pred)\n",
    "    cm = confusion_matrix(y_test, y_pred)\n",
    "    \n",
    "    results.append({\n",
    "        \"Threshold\": th,\n",
    "        \"Accuracy\": round(acc, 3),\n",
    "        \"Precision\": round(prec, 3),\n",
    "        \"Recall\": round(rec, 3),\n",
    "        \"F1 Score\": round(f1, 3),\n",
    "        \"True Negatives\": cm[0,0],\n",
    "        \"False Positives\": cm[0,1],\n",
    "        \"False Negatives\": cm[1,0],\n",
    "        \"True Positives\": cm[1,1]\n",
    "    })\n",
    "\n",
    "# Create DataFrame for comparison\n",
    "comparison_df = pd.DataFrame(results)\n",
    "\n",
    "comparison_df\n"
   ]
  },
  {
   "cell_type": "markdown",
   "id": "86d316e6-1bc9-45f5-ad23-35e9405f5ef3",
   "metadata": {},
   "source": [
    "#### Business Insight\n",
    "- **High Retention Budget?** → Use 0.316. If the company's priority is to save as many customers as possible and it has the resources to handle more false alarms, the aggressive threshold is the correct choice.\n",
    "- **Limited Marketing Budget?** → Use 0.50. If resources for retention efforts are scarce, it makes more sense to use the cautious threshold to ensure that you are only targeting the most likely churners."
   ]
  },
  {
   "cell_type": "markdown",
   "id": "c84b8239-48d1-423b-8a10-33b6fce449a3",
   "metadata": {},
   "source": [
    "# Phase 5 (Part 2) – Model Tuning & Comparison"
   ]
  },
  {
   "cell_type": "code",
   "execution_count": 521,
   "id": "e892591a-fa29-45d0-b477-fb345b8fb0c3",
   "metadata": {},
   "outputs": [
    {
     "data": {
      "text/html": [
       "<div>\n",
       "<style scoped>\n",
       "    .dataframe tbody tr th:only-of-type {\n",
       "        vertical-align: middle;\n",
       "    }\n",
       "\n",
       "    .dataframe tbody tr th {\n",
       "        vertical-align: top;\n",
       "    }\n",
       "\n",
       "    .dataframe thead th {\n",
       "        text-align: right;\n",
       "    }\n",
       "</style>\n",
       "<table border=\"1\" class=\"dataframe\">\n",
       "  <thead>\n",
       "    <tr style=\"text-align: right;\">\n",
       "      <th></th>\n",
       "      <th>Accuracy</th>\n",
       "      <th>Precision</th>\n",
       "      <th>Recall</th>\n",
       "      <th>F1-Score</th>\n",
       "      <th>ROC-AUC</th>\n",
       "    </tr>\n",
       "  </thead>\n",
       "  <tbody>\n",
       "    <tr>\n",
       "      <th>Logistic Regression:</th>\n",
       "      <td>0.821150</td>\n",
       "      <td>0.686154</td>\n",
       "      <td>0.597855</td>\n",
       "      <td>0.638968</td>\n",
       "      <td>0.749700</td>\n",
       "    </tr>\n",
       "    <tr>\n",
       "      <th>Random Forest:</th>\n",
       "      <td>0.794180</td>\n",
       "      <td>0.656604</td>\n",
       "      <td>0.466488</td>\n",
       "      <td>0.545455</td>\n",
       "      <td>0.689325</td>\n",
       "    </tr>\n",
       "    <tr>\n",
       "      <th>XGBoost Classifier:</th>\n",
       "      <td>0.791341</td>\n",
       "      <td>0.627010</td>\n",
       "      <td>0.522788</td>\n",
       "      <td>0.570175</td>\n",
       "      <td>0.705410</td>\n",
       "    </tr>\n",
       "  </tbody>\n",
       "</table>\n",
       "</div>"
      ],
      "text/plain": [
       "                       Accuracy  Precision    Recall  F1-Score   ROC-AUC\n",
       "Logistic Regression:   0.821150   0.686154  0.597855  0.638968  0.749700\n",
       "Random Forest:         0.794180   0.656604  0.466488  0.545455  0.689325\n",
       "XGBoost Classifier:    0.791341   0.627010  0.522788  0.570175  0.705410"
      ]
     },
     "execution_count": 521,
     "metadata": {},
     "output_type": "execute_result"
    }
   ],
   "source": [
    "# Function to train model & get metrics\n",
    "def get_metrics(model, X_train, y_train, X_test, y_test):\n",
    "    model.fit(X_train, y_train)\n",
    "    y_pred=model.predict(X_test)\n",
    "    y_pred_prob = model.predict_proba(X_test)[:,1]\n",
    "    return{\n",
    "    'Accuracy': accuracy_score(y_test,y_pred),\n",
    "    'Precision': precision_score(y_test, y_pred),\n",
    "    'Recall': recall_score(y_test, y_pred),\n",
    "    'F1-Score': f1_score(y_test, y_pred),\n",
    "    'ROC-AUC': roc_auc_score(y_test,y_pred)\n",
    "    }\n",
    "\n",
    "# Models\n",
    "log_reg=LogisticRegression(max_iter=1000)\n",
    "rf=RandomForestClassifier(random_state=42)\n",
    "xgb= XGBClassifier(eval_metric='logloss', random_state=42)\n",
    "\n",
    "# Results\n",
    "results = {\n",
    "    \"Logistic Regression: \" :get_metrics(log_reg, X_train, y_train, X_test, y_test),\n",
    "    \"Random Forest: \":get_metrics(rf,X_train, y_train, X_test, y_test),\n",
    "    \"XGBoost Classifier: \": get_metrics(xgb,X_train, y_train, X_test, y_test)\n",
    "}\n",
    "\n",
    "# Convert to DataFrame for display\n",
    "results_df=pd.DataFrame(results).T\n",
    "results_df"
   ]
  },
  {
   "cell_type": "markdown",
   "id": "60d54684-fea7-4e1a-8d31-2d5616a476de",
   "metadata": {},
   "source": [
    "- Results show **Logistic Regression** is the most balanced model with a **strong F1-Score (0.639)** and **ROC-AUC (0.75)**.\n",
    "- **Random Forest** has **low recall (0.466)**, missing many churners.\n",
    "- **XGBoost** slightly **improved recall (0.523)** but lowered precision.\n",
    "- **Conclusion:** Use Logistic Regression for a balanced approach, or XGBoost if your priority is catching more churners.\n",
    "- The next step is to start **Phase 5: Model Tuning** to improve these results."
   ]
  },
  {
   "cell_type": "markdown",
   "id": "bda608b0-470b-42da-98f9-3b791106ef34",
   "metadata": {},
   "source": [
    "## TUNING\n",
    "***RandomizedSearchCV is fast, and your dataset isn't very large, so it will be quite efficient.***\n",
    "### 1. Logistic Regression RandomizedSearchCV"
   ]
  },
  {
   "cell_type": "code",
   "execution_count": 527,
   "id": "23da776f-4feb-4807-96eb-d899e7245bd2",
   "metadata": {},
   "outputs": [
    {
     "name": "stdout",
     "output_type": "stream",
     "text": [
      "Fitting 5 folds for each of 20 candidates, totalling 100 fits\n"
     ]
    },
    {
     "name": "stderr",
     "output_type": "stream",
     "text": [
      "C:\\Users\\DELL\\AppData\\Roaming\\Python\\Python313\\site-packages\\sklearn\\model_selection\\_validation.py:516: FitFailedWarning: \n",
      "35 fits failed out of a total of 100.\n",
      "The score on these train-test partitions for these parameters will be set to nan.\n",
      "If these failures are not expected, you can try to debug them by setting error_score='raise'.\n",
      "\n",
      "Below are more details about the failures:\n",
      "--------------------------------------------------------------------------------\n",
      "30 fits failed with the following error:\n",
      "Traceback (most recent call last):\n",
      "  File \"C:\\Users\\DELL\\AppData\\Roaming\\Python\\Python313\\site-packages\\sklearn\\model_selection\\_validation.py\", line 859, in _fit_and_score\n",
      "    estimator.fit(X_train, y_train, **fit_params)\n",
      "    ~~~~~~~~~~~~~^^^^^^^^^^^^^^^^^^^^^^^^^^^^^^^^\n",
      "  File \"C:\\Users\\DELL\\AppData\\Roaming\\Python\\Python313\\site-packages\\sklearn\\base.py\", line 1365, in wrapper\n",
      "    return fit_method(estimator, *args, **kwargs)\n",
      "  File \"C:\\Users\\DELL\\AppData\\Roaming\\Python\\Python313\\site-packages\\sklearn\\linear_model\\_logistic.py\", line 1218, in fit\n",
      "    solver = _check_solver(self.solver, self.penalty, self.dual)\n",
      "  File \"C:\\Users\\DELL\\AppData\\Roaming\\Python\\Python313\\site-packages\\sklearn\\linear_model\\_logistic.py\", line 64, in _check_solver\n",
      "    raise ValueError(\n",
      "    ...<2 lines>...\n",
      "    )\n",
      "ValueError: Solver lbfgs supports only 'l2' or None penalties, got l1 penalty.\n",
      "\n",
      "--------------------------------------------------------------------------------\n",
      "5 fits failed with the following error:\n",
      "Traceback (most recent call last):\n",
      "  File \"C:\\Users\\DELL\\AppData\\Roaming\\Python\\Python313\\site-packages\\sklearn\\model_selection\\_validation.py\", line 859, in _fit_and_score\n",
      "    estimator.fit(X_train, y_train, **fit_params)\n",
      "    ~~~~~~~~~~~~~^^^^^^^^^^^^^^^^^^^^^^^^^^^^^^^^\n",
      "  File \"C:\\Users\\DELL\\AppData\\Roaming\\Python\\Python313\\site-packages\\sklearn\\base.py\", line 1365, in wrapper\n",
      "    return fit_method(estimator, *args, **kwargs)\n",
      "  File \"C:\\Users\\DELL\\AppData\\Roaming\\Python\\Python313\\site-packages\\sklearn\\linear_model\\_logistic.py\", line 1218, in fit\n",
      "    solver = _check_solver(self.solver, self.penalty, self.dual)\n",
      "  File \"C:\\Users\\DELL\\AppData\\Roaming\\Python\\Python313\\site-packages\\sklearn\\linear_model\\_logistic.py\", line 64, in _check_solver\n",
      "    raise ValueError(\n",
      "    ...<2 lines>...\n",
      "    )\n",
      "ValueError: Solver lbfgs supports only 'l2' or None penalties, got elasticnet penalty.\n",
      "\n",
      "  warnings.warn(some_fits_failed_message, FitFailedWarning)\n",
      "C:\\Users\\DELL\\AppData\\Roaming\\Python\\Python313\\site-packages\\sklearn\\model_selection\\_search.py:1135: UserWarning: One or more of the test scores are non-finite: [       nan 0.59184926        nan 0.59190138        nan 0.56731988\n",
      "        nan 0.59080702 0.59287802 0.59080702        nan        nan\n",
      " 0.13486727 0.13486727 0.58217684 0.51196276 0.59080702 0.59080702\n",
      " 0.59133206        nan]\n",
      "  warnings.warn(\n",
      "C:\\Users\\DELL\\AppData\\Roaming\\Python\\Python313\\site-packages\\sklearn\\linear_model\\_logistic.py:1221: UserWarning: l1_ratio parameter is only used when penalty is 'elasticnet'. Got (penalty=l2)\n",
      "  warnings.warn(\n"
     ]
    },
    {
     "name": "stdout",
     "output_type": "stream",
     "text": [
      "Best Logistic Regression Parameters:  {'solver': 'saga', 'penalty': 'l2', 'l1_ratio': np.float64(0.75), 'C': np.float64(10.0)}\n",
      "Best Logistic Regression F1-Score:  0.5928780233657516\n"
     ]
    }
   ],
   "source": [
    "# Logistic Regression Hyperparameter grid\n",
    "log_reg_param_grid={\n",
    "    'penalty':['l1', 'l2', 'elasticnet', None],\n",
    "    'C': np.logspace(-3,3,10), # Regularization strength\n",
    "    'solver': ['saga', 'lbfgs'], # solvers that support penalties\n",
    "    'l1_ratio': np.linspace(0,1,5) # only used if penalty='elasticnet'\n",
    "}\n",
    "\n",
    "log_reg_model=LogisticRegression(max_iter=5000)\n",
    "\n",
    "log_reg_search= RandomizedSearchCV(\n",
    "    estimator=log_reg_model,\n",
    "    param_distributions=log_reg_param_grid,\n",
    "    n_iter=20,\n",
    "    scoring='f1',\n",
    "    cv=5,\n",
    "    verbose=2,\n",
    "    n_jobs=-1,\n",
    "    random_state=42\n",
    ")\n",
    "\n",
    "log_reg_search.fit(X_train, y_train)\n",
    "\n",
    "print(\"Best Logistic Regression Parameters: \", log_reg_search.best_params_)\n",
    "print(\"Best Logistic Regression F1-Score: \", log_reg_search.best_score_)"
   ]
  },
  {
   "cell_type": "markdown",
   "id": "0ade7fec-1942-4d75-9830-167d22957b3e",
   "metadata": {},
   "source": [
    "### 2. XGBoost RandomizedSearchCV"
   ]
  },
  {
   "cell_type": "code",
   "execution_count": 534,
   "id": "e207a490-ed75-42b9-b74b-7b1ade006391",
   "metadata": {},
   "outputs": [
    {
     "name": "stdout",
     "output_type": "stream",
     "text": [
      "Fitting 5 folds for each of 20 candidates, totalling 100 fits\n"
     ]
    },
    {
     "name": "stderr",
     "output_type": "stream",
     "text": [
      "C:\\Users\\DELL\\AppData\\Roaming\\Python\\Python313\\site-packages\\xgboost\\training.py:183: UserWarning: [11:00:39] WARNING: C:\\actions-runner\\_work\\xgboost\\xgboost\\src\\learner.cc:738: \n",
      "Parameters: { \"use_label_encoder\" } are not used.\n",
      "\n",
      "  bst.update(dtrain, iteration=i, fobj=obj)\n"
     ]
    },
    {
     "name": "stdout",
     "output_type": "stream",
     "text": [
      "Best XGBoost Parameters: {'subsample': 0.8, 'reg_lambda': 1.5, 'n_estimators': 100, 'max_depth': 6, 'learning_rate': 0.05, 'gamma': 0.1, 'colsample_bytree': 0.8}\n",
      "Best XGBoost F1 Score: 0.5745412095096076\n"
     ]
    }
   ],
   "source": [
    "from xgboost import XGBClassifier\n",
    "\n",
    "# XGBoost hyperparameter grid\n",
    "xgb_param_grid = {\n",
    "    'n_estimators': [100, 200, 300, 500],\n",
    "    'max_depth': [3, 4, 5, 6, 8],\n",
    "    'learning_rate': [0.01, 0.05, 0.1, 0.2],\n",
    "    'subsample': [0.6, 0.8, 1.0],\n",
    "    'colsample_bytree': [0.6, 0.8, 1.0],\n",
    "    'gamma': [0, 0.1, 0.3, 0.5],\n",
    "    'reg_lambda': [0.5, 1, 1.5, 2]\n",
    "}\n",
    "\n",
    "xgb_model = XGBClassifier(\n",
    "    objective='binary:logistic',\n",
    "    eval_metric='logloss',\n",
    "    use_label_encoder=False\n",
    ")\n",
    "\n",
    "xgb_search = RandomizedSearchCV(\n",
    "    estimator=xgb_model,\n",
    "    param_distributions=xgb_param_grid,\n",
    "    n_iter=20,\n",
    "    scoring='f1',\n",
    "    cv=5,\n",
    "    verbose=2,\n",
    "    n_jobs=-1,\n",
    "    random_state=42\n",
    ")\n",
    "\n",
    "xgb_search.fit(X_train, y_train)\n",
    "\n",
    "print(\"Best XGBoost Parameters:\", xgb_search.best_params_)\n",
    "print(\"Best XGBoost F1 Score:\", xgb_search.best_score_)\n"
   ]
  },
  {
   "cell_type": "markdown",
   "id": "848cf8f3-a935-4a17-b47a-c4ae6a6f84b8",
   "metadata": {},
   "source": [
    "### 3. Comparison of Tuned Models"
   ]
  },
  {
   "cell_type": "code",
   "execution_count": 539,
   "id": "5f7a9b23-ab20-4408-b8ae-59ad6bbcd6ef",
   "metadata": {},
   "outputs": [
    {
     "name": "stdout",
     "output_type": "stream",
     "text": [
      "                          Model  Accuracy  Precision    Recall  F1-Score  \\\n",
      "0  Logistic Reggression (Tuned)  0.819021   0.682099  0.592493  0.634146   \n",
      "1               XGBoost (Tuned)  0.807665   0.673469  0.530831  0.593703   \n",
      "\n",
      "    ROC-AUC  \n",
      "0  0.746536  \n",
      "1  0.719084  \n"
     ]
    }
   ],
   "source": [
    "# best tuned models\n",
    "best_log_reg = log_reg_search.best_estimator_\n",
    "best_xgb= xgb_search.best_estimator_\n",
    "\n",
    "models = { \"Logistic Reggression (Tuned)\" : best_log_reg, \"XGBoost (Tuned)\" : best_xgb}\n",
    "\n",
    "# Results Table\n",
    "tuned_results=[]\n",
    "for name, model in models.items():\n",
    "    y_pred=model.predict(X_test)\n",
    "    tuned_results.append({\n",
    "    'Model': name,\n",
    "    'Accuracy': accuracy_score(y_test, y_pred),\n",
    "    'Precision': precision_score(y_test, y_pred),\n",
    "    'Recall': recall_score(y_test, y_pred),\n",
    "    'F1-Score': f1_score(y_test, y_pred),\n",
    "    'ROC-AUC': roc_auc_score(y_test, y_pred)})\n",
    "\n",
    "tuned_results_df=pd.DataFrame(tuned_results)\n",
    "print(tuned_results_df)"
   ]
  },
  {
   "cell_type": "markdown",
   "id": "9e6f9107-bbf3-47df-b56a-ce4ea1b2523b",
   "metadata": {},
   "source": [
    "#### Tuned Model Performance\n",
    "Both Logistic Regression and XGBoost were tuned, but Logistic Regression performed better overall. This model achieved a better F1-Score (0.634) and a higher ROC-AUC (0.747) than XGBoost.\n",
    "\n",
    "#### Interview & Business Insights\n",
    "- **Balanced Performance:** The tuned Logistic Regression is the clear winner for a balanced approach. Its higher F1-Score suggests it's the best model for general churn prediction.\n",
    "- **The Impact of Tuning:** The results show that for this specific dataset, a simpler, well-tuned model (Logistic Regression) outperformed a more complex model (XGBoost).\n",
    "- **Decision-Making:** The results suggest we should proceed with the tuned Logistic Regression model, as it provides the most reliable and balanced predictions for our churn problem."
   ]
  },
  {
   "cell_type": "markdown",
   "id": "146dbca4-b0a8-4c89-93af-0d686a57020b",
   "metadata": {},
   "source": [
    "# Phase 6 — Feature Importance & Business Actions"
   ]
  },
  {
   "cell_type": "code",
   "execution_count": 543,
   "id": "9267e713-b8bd-4791-81e9-a3068b049177",
   "metadata": {},
   "outputs": [
    {
     "name": "stdout",
     "output_type": "stream",
     "text": [
      "Top Churn Boosters (Positive Coefficients):\n",
      "                           Feature  Coefficient\n",
      "11     InternetService_Fiber optic     0.996214\n",
      "8                     TotalCharges     0.653440\n",
      "24             StreamingMovies_Yes     0.368102\n",
      "6                 PaperlessBilling     0.332748\n",
      "28  PaymentMethod_Electronic check     0.324171\n",
      "10               MultipleLines_Yes     0.290502\n",
      "22                 StreamingTV_Yes     0.268959\n",
      "1                    SeniorCitizen     0.160578\n",
      "2                          Partner     0.053953\n",
      "18            DeviceProtection_Yes     0.007401\n",
      "\n",
      "Top Churn Reducers (Negative Coefficients):\n",
      "                                 Feature  Coefficient\n",
      "19       TechSupport_No internet service    -0.149736\n",
      "17  DeviceProtection_No internet service    -0.149736\n",
      "3                             Dependents    -0.159248\n",
      "20                       TechSupport_Yes    -0.321316\n",
      "7                         MonthlyCharges    -0.330998\n",
      "14                    OnlineSecurity_Yes    -0.402304\n",
      "5                           PhoneService    -0.514002\n",
      "25                     Contract_One year    -0.637260\n",
      "4                                 tenure    -1.362531\n",
      "26                     Contract_Two year    -1.397018\n"
     ]
    },
    {
     "data": {
      "image/png": "[encoded data removed]",
      "text/plain": [
       "<Figure size 1000x800 with 1 Axes>"
      ]
     },
     "metadata": {},
     "output_type": "display_data"
    }
   ],
   "source": [
    "# Convert Coefficients to dataframe\n",
    "coef_df= pd.DataFrame({\n",
    "    'Feature': X_train.columns,\n",
    "    'Coefficient': log_reg.coef_[0]\n",
    "}).sort_values(by='Coefficient', ascending=False)\n",
    "\n",
    "# Display top 10 positive and negative factors\n",
    "print(\"Top Churn Boosters (Positive Coefficients):\")\n",
    "print(coef_df.head(10))\n",
    "\n",
    "print(\"\\nTop Churn Reducers (Negative Coefficients):\")\n",
    "print(coef_df.tail(10))\n",
    "\n",
    "# Plot bar chart\n",
    "plt.figure(figsize=(10,8))\n",
    "plt.barh(coef_df['Feature'], coef_df['Coefficient'], color=np.where(coef_df['Coefficient']>0, 'red', 'green'))\n",
    "plt.xlabel('Coefficient Value')\n",
    "plt.ylabel('Feature')\n",
    "plt.title('Logistic Regression Coefficients: Churn Impact')\n",
    "plt.gca().invert_yaxis()\n",
    "plt.show()"
   ]
  },
  {
   "cell_type": "markdown",
   "id": "0b45a716-39c8-4645-bfe9-46518311b2bc",
   "metadata": {},
   "source": [
    "### Churn Drivers (Red) → Action Required\n",
    "- #### Fiber Optic Internet - Strongest churn driver\n",
    "\n",
    "     - **Possible Reason:** Maybe customers face speed/reliability issues or higher pricing compared to DSL.\n",
    "     - **Action:** Conduct customer surveys for fiber users, introduce service quality guarantees, or offer discounts for first renewal.\n",
    "\n",
    "- #### High Total Charges - Customers with large bills are more likely to leave.\n",
    "\n",
    "     - **Possible Reason:** Perceived lack of value for money.\n",
    "     - **Action:** Offer loyalty discounts or bundle packages to reduce monthly bills for high-paying customers.\n",
    "\n",
    "### Retention Factors (Green) → Keep & Strengthen\n",
    "- #### Two-Year Contracts - Strongest retention factor\n",
    "\n",
    "     - **Action:** Promote two-year contracts with added benefits (free months, premium features).\n",
    "\n",
    "- #### Long Tenure - Loyal customers churn less\n",
    "\n",
    "     - **Action:** Start a loyalty rewards program after 12 months of subscription.\n",
    "\n",
    "- #### One-Year Contracts - Also strong retention\n",
    "\n",
    "     - **Action:** Offer easy upgrade from monthly plans to 1-year or 2-year contracts.\n",
    "\n",
    "### Business Takeaway:\n",
    "Focus on retaining fiber users and offering better deals to high-bill customers, while promoting longer contracts to lock in retention."
   ]
  },
  {
   "cell_type": "markdown",
   "id": "ebb36eab-6c9d-425d-a67e-89e18a112972",
   "metadata": {},
   "source": [
    "# Phase 6 part 2 : Business Simulation & ROI Calculation"
   ]
  },
  {
   "cell_type": "markdown",
   "id": "bee23418-91f2-4409-8aca-a8c91c3c590f",
   "metadata": {},
   "source": [
    "### The Goal \n",
    "- **Overall Purpose:** The main goal is to run a business simulation. We want to answer the question: ***\"If we send a retention offer to the top X% of customers most likely to churn, what is our profit and Return on Investment (ROI)?\"***\n",
    "- **Method:** Instead of relying on a fixed threshold (like 0.5 or 0.316),we will write a code that systematically tests different targeting sizes (10%, 20%, 30%, etc.) to find the most profitable strategy."
   ]
  },
  {
   "cell_type": "markdown",
   "id": "13b3e67e-0c08-4241-b287-fe9eac55fa41",
   "metadata": {},
   "source": [
    "## 1. Setup\n",
    "This part sets up the basic ingredients for our simulation."
   ]
  },
  {
   "cell_type": "code",
   "execution_count": 549,
   "id": "0eeaa289-7205-4d88-9c0d-2b9fdf0a7577",
   "metadata": {},
   "outputs": [],
   "source": [
    "# Assumptions\n",
    "offer_cost=25 # $ targeted per customer\n",
    "CLV= 500 # 4 value saved is a churner is retained\n",
    "success_rate=0.60 # if we target a churner, prob that they will stay\n",
    "fractions=[0.10, 0.20, 0.30, 0.40, 0.50] # target top X%"
   ]
  },
  {
   "cell_type": "markdown",
   "id": "edc3eaaf-a962-446b-b7eb-efc10e192978",
   "metadata": {},
   "source": [
    "## 2. The Data Prep\n",
    "This section gets the data ready for the simulation."
   ]
  },
  {
   "cell_type": "code",
   "execution_count": 556,
   "id": "04ff3278-8b93-4fb1-af68-a8e3d93ea34d",
   "metadata": {},
   "outputs": [],
   "source": [
    "df_eval=pd.DataFrame({ \"proba\": y_pred_proba, \"actual\": y_test.values if hasattr(y_test, \"values\") else y_test}).sort_values(\"proba\", ascending=False).reset_index(drop=True)"
   ]
  },
  {
   "cell_type": "markdown",
   "id": "bf2f9920-7bc4-4e44-be88-ed756ee3e40c",
   "metadata": {},
   "source": [
    "## 3. The Simulation Engine (simulate_roi function) \n",
    "This is the heart of the code. This function takes a fraction (e.g., 0.10) and calculates all the business metrics for that specific targeting size."
   ]
  },
  {
   "cell_type": "code",
   "execution_count": 589,
   "id": "949c4bf6-dc03-40ac-ac0e-4c51be1bf96c",
   "metadata": {},
   "outputs": [],
   "source": [
    "# Average tenure in months from training data\n",
    "avg_tenure_months = X_train['tenure'].mean()\n",
    "\n",
    "# Convert lifetime CLV to monthly CLV\n",
    "monthly_clv = CLV / avg_tenure_months\n",
    "\n",
    "# Updated Simulation Engine (monthly CLV based ROI)\n",
    "def simulate_roi(df, frac, offer_cost, CLV, success_rate):\n",
    "    n = len(df)\n",
    "    n_target = ceil(frac * n)\n",
    "    targeted = df.iloc[:n_target]\n",
    "    non_targeted = df[n_target:]\n",
    "    \n",
    "    # Business Counts\n",
    "    actual_churn_targeted = int(targeted['actual'].sum())  # true churners in targeted\n",
    "    saved_customers = int(round(success_rate * actual_churn_targeted))\n",
    "    \n",
    "    cost = n_target * offer_cost\n",
    "    # Use monthly CLV instead of lifetime CLV\n",
    "    revenue_saved = saved_customers * monthly_clv\n",
    "    net = revenue_saved - cost\n",
    "    roi = (net / cost) if cost > 0 else np.nan\n",
    "    \n",
    "    # Predictions based on targeting rule\n",
    "    y_pred_rule = np.zeros(n, dtype=int)\n",
    "    y_pred_rule[:n_target] = 1\n",
    "    y_true = df[\"actual\"].values\n",
    "    \n",
    "    pre = precision_score(y_true, y_pred_rule, zero_division=0)\n",
    "    rec = recall_score(y_true, y_pred_rule, zero_division=0)\n",
    "    f1 = f1_score(y_true, y_pred_rule, zero_division=0)\n",
    "    tn, fp, fn, tp = confusion_matrix(y_true, y_pred_rule).ravel()\n",
    "    \n",
    "    return {\n",
    "        \"Target %\": int(frac * 100),\n",
    "        \"Targeted\": n_target,\n",
    "        \"Actual Churners Targeted (TP+FN in targeted)\": actual_churn_targeted,\n",
    "        \"Saved (≈ TP_saved)\": saved_customers,\n",
    "        \"Cost ($)\": cost,\n",
    "        \"Revenue Saved ($)\": revenue_saved,\n",
    "        \"Net Profit ($)\": net,\n",
    "        \"ROI\": roi,\n",
    "        \"Precision\": pre,\n",
    "        \"Recall\": rec,\n",
    "        \"F1\": f1,\n",
    "        \"TN\": tn, \"FP\": fp, \"FN\": fn, \"TP\": tp\n",
    "    }\n"
   ]
  },
  {
   "cell_type": "markdown",
   "id": "af5c6731-ea94-4411-82e3-4e4c0d8912ad",
   "metadata": {},
   "source": [
    "## 4: The Final Output"
   ]
  },
  {
   "cell_type": "code",
   "execution_count": 592,
   "id": "c2050eed-6726-4469-9329-914fcb9638be",
   "metadata": {},
   "outputs": [
    {
     "name": "stdout",
     "output_type": "stream",
     "text": [
      "=== Business Simulation (Assumptions: offer_cost=$25, CLV=$500, success_rate=60%) ===\n",
      " Target %  Targeted  Saved (≈ TP_saved)  Cost ($)  Revenue Saved ($)  Net Profit ($)           ROI  Precision   Recall       F1\n",
      "       10       141                  63      3525       3.980730e+08    3.980695e+08 112927.513598   0.744681 0.281501 0.408560\n",
      "       20       282                 119      7050       7.519157e+08    7.519086e+08 106653.707287   0.705674 0.533512 0.607634\n",
      "       30       423                 152     10575       9.604301e+08    9.604195e+08  90819.815169   0.600473 0.680965 0.638191\n",
      "       40       564                 182     14100       1.149989e+09    1.149975e+09  81558.482043   0.539007 0.815013 0.648879\n",
      "       50       705                 197     17625       1.244768e+09    1.244750e+09  70624.133901   0.466667 0.882038 0.610390\n"
     ]
    },
    {
     "data": {
      "image/png": "[encoded data removed]",
      "text/plain": [
       "<Figure size 600x500 with 1 Axes>"
      ]
     },
     "metadata": {},
     "output_type": "display_data"
    },
    {
     "name": "stdout",
     "output_type": "stream",
     "text": [
      "\n",
      "=== Reference: Threshold Rule @ p >= 0.316 ===\n",
      "Targeted: 519 | Saved (≈): 177 | Cost ($): 12975 | Revenue Saved ($): 88500 | Net ($): 75525 | ROI: 5.821\n",
      "Precision: 0.568 | Recall: 0.791 | F1: 0.661\n"
     ]
    }
   ],
   "source": [
    "# Run scenarios\n",
    "rows = [simulate_roi(df_eval, f, offer_cost, CLV, success_rate) for f in fractions]\n",
    "roi_table = pd.DataFrame(rows)\n",
    "# Pretty display\n",
    "display_cols = [\"Target %\", \"Targeted\", \"Saved (≈ TP_saved)\", \"Cost ($)\", \"Revenue Saved ($)\", \"Net Profit ($)\", \"ROI\",\n",
    "                \"Precision\", \"Recall\", \"F1\"]\n",
    "print(\"=== Business Simulation (Assumptions: offer_cost=${}, CLV=${}, success_rate={:.0%}) ===\".format(\n",
    "    offer_cost, CLV, success_rate))\n",
    "print(roi_table[display_cols].to_string(index=False))\n",
    "\n",
    "# ROI curve\n",
    "plt.figure(figsize=(6,5))\n",
    "plt.plot(roi_table[\"Target %\"], roi_table[\"ROI\"], marker=\"o\")\n",
    "plt.xlabel(\"Target % (Top risk customers)\")\n",
    "plt.ylabel(\"ROI\")\n",
    "plt.title(\"ROI vs Targeting Size\")\n",
    "plt.grid(True)\n",
    "plt.show()\n",
    "\n",
    "# compare with best-F1 threshold rule (0.316) for reference\n",
    "best_thr = 0.316\n",
    "y_thr_pred = (df_eval[\"proba\"].values >= best_thr).astype(int)\n",
    "prec_thr = precision_score(df_eval[\"actual\"], y_thr_pred, zero_division=0)\n",
    "rec_thr  = recall_score(df_eval[\"actual\"], y_thr_pred, zero_division=0)\n",
    "f1_thr   = f1_score(df_eval[\"actual\"], y_thr_pred, zero_division=0)\n",
    "tn, fp, fn, tp = confusion_matrix(df_eval[\"actual\"], y_thr_pred).ravel()\n",
    "\n",
    "# Business numbers if we target everyone predicted 1 by threshold\n",
    "n_target_thr = int(y_thr_pred.sum())\n",
    "actual_churn_targeted_thr = int(df_eval.loc[y_thr_pred==1, \"actual\"].sum())\n",
    "saved_thr = int(round(success_rate * actual_churn_targeted_thr))\n",
    "cost_thr = n_target_thr * offer_cost\n",
    "rev_saved_thr = saved_thr * CLV\n",
    "net_thr = rev_saved_thr - cost_thr\n",
    "roi_thr = (net_thr / cost_thr) if cost_thr > 0 else np.nan\n",
    "\n",
    "print(\"\\n=== Reference: Threshold Rule @ p >= {:.3f} ===\".format(best_thr))\n",
    "print(\"Targeted:\", n_target_thr,\n",
    "      \"| Saved (≈):\", saved_thr,\n",
    "      \"| Cost ($):\", cost_thr,\n",
    "      \"| Revenue Saved ($):\", rev_saved_thr,\n",
    "      \"| Net ($):\", net_thr,\n",
    "      \"| ROI:\", round(roi_thr, 3))\n",
    "print(\"Precision:\", round(prec_thr,3), \"| Recall:\", round(rec_thr,3), \"| F1:\", round(f1_thr,3))"
   ]
  },
  {
   "cell_type": "markdown",
   "id": "7927d310-3660-46e2-acd6-d8ebf79dfafd",
   "metadata": {},
   "source": [
    "The updated simulation, using a more accurate monthly CLV, shows that the retention campaign is highly profitable.\n",
    "\n",
    "- **Optimal Strategy:** The best strategy is to be highly selective, targeting only the top 10% of at-risk customers, as this yields the highest ROI.\n",
    "- **Declining Profitability:** Expanding the target group to 20%, 30%, or more leads to a significant decrease in ROI because the model's precision drops.\n",
    "- **Key Insight:** This proves that a data-driven, targeted approach is far more effective and profitable than a broad, untargeted campaign."
   ]
  },
  {
   "cell_type": "code",
   "execution_count": 597,
   "id": "5c26f9d8-38f9-4fda-bb12-04933222b3a1",
   "metadata": {},
   "outputs": [
    {
     "data": {
      "text/plain": [
       "['model.pkl']"
      ]
     },
     "execution_count": 597,
     "metadata": {},
     "output_type": "execute_result"
    }
   ],
   "source": [
    "import joblib\n",
    "\n",
    "# maan lo X_train tumhara training data hai\n",
    "model_columns = list(X_train.columns)\n",
    "joblib.dump(model_columns, \"model_columns.pkl\")\n",
    "\n",
    "# trained model ko save karna\n",
    "joblib.dump(model, \"model.pkl\")\n"
   ]
  },
  {
   "cell_type": "code",
   "execution_count": null,
   "id": "53abd718-e5aa-4c88-aab9-9e460fc7a040",
   "metadata": {},
   "outputs": [],
   "source": []
  }
 ],
 "metadata": {
  "kernelspec": {
   "display_name": "churn_project",
   "language": "python",
   "name": "churn_project"
  },
  "language_info": {
   "codemirror_mode": {
    "name": "ipython",
    "version": 3
   },
   "file_extension": ".py",
   "mimetype": "text/x-python",
   "name": "python",
   "nbconvert_exporter": "python",
   "pygments_lexer": "ipython3",
   "version": "3.13.4"
  }
 },
 "nbformat": 4,
 "nbformat_minor": 5
}
